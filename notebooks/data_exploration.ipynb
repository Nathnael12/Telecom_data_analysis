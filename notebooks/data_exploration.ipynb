{
 "cells": [
  {
   "cell_type": "code",
   "execution_count": 1,
   "metadata": {},
   "outputs": [],
   "source": [
    "import sys\n",
    "import pandas as pd\n",
    "import seaborn as sns\n",
    "import matplotlib.pyplot as plt\n",
    "sys.path.append(\"../scripts\")\n",
    "from utils import Utils\n",
    "from clean_data import DataCleaner\n",
    "\n",
    "cleaner = DataCleaner()\n",
    "utility = Utils()"
   ]
  },
  {
   "cell_type": "code",
   "execution_count": 2,
   "metadata": {},
   "outputs": [],
   "source": [
    "cleaned_df=utility.load_data(\"../data/cleaned_data.csv\")\n",
    "# since our csv file doesn't have a meta data of columns dtype, we manually convert ['bearer_id', 'imsi', 'msisdn/number', 'imei','handset_type'] to string once again\n",
    "cleaned_df=cleaner.convert_to_string(cleaned_df)"
   ]
  },
  {
   "cell_type": "code",
   "execution_count": 3,
   "metadata": {},
   "outputs": [
    {
     "data": {
      "text/html": [
       "<div>\n",
       "<style scoped>\n",
       "    .dataframe tbody tr th:only-of-type {\n",
       "        vertical-align: middle;\n",
       "    }\n",
       "\n",
       "    .dataframe tbody tr th {\n",
       "        vertical-align: top;\n",
       "    }\n",
       "\n",
       "    .dataframe thead th {\n",
       "        text-align: right;\n",
       "    }\n",
       "</style>\n",
       "<table border=\"1\" class=\"dataframe\">\n",
       "  <thead>\n",
       "    <tr style=\"text-align: right;\">\n",
       "      <th></th>\n",
       "      <th>bearer_id</th>\n",
       "      <th>start</th>\n",
       "      <th>start_ms</th>\n",
       "      <th>end</th>\n",
       "      <th>end_ms</th>\n",
       "      <th>dur._(ms)</th>\n",
       "      <th>imsi</th>\n",
       "      <th>msisdn/number</th>\n",
       "      <th>imei</th>\n",
       "      <th>last_location_name</th>\n",
       "      <th>...</th>\n",
       "      <th>youtube_dl_(bytes)</th>\n",
       "      <th>youtube_ul_(bytes)</th>\n",
       "      <th>netflix_dl_(bytes)</th>\n",
       "      <th>netflix_ul_(bytes)</th>\n",
       "      <th>gaming_dl_(bytes)</th>\n",
       "      <th>gaming_ul_(bytes)</th>\n",
       "      <th>other_dl_(bytes)</th>\n",
       "      <th>other_ul_(bytes)</th>\n",
       "      <th>total_ul_(bytes)</th>\n",
       "      <th>total_dl_(bytes)</th>\n",
       "    </tr>\n",
       "  </thead>\n",
       "  <tbody>\n",
       "    <tr>\n",
       "      <th>149996</th>\n",
       "      <td>7.27782567019668e+18</td>\n",
       "      <td>2019-04-29 07:28:00</td>\n",
       "      <td>451.0000</td>\n",
       "      <td>2019-04-30 06:02:00</td>\n",
       "      <td>214.00000</td>\n",
       "      <td>81230.0</td>\n",
       "      <td>208202201200072.0</td>\n",
       "      <td>33650688697.0</td>\n",
       "      <td>35483109451938.0</td>\n",
       "      <td>D20434A</td>\n",
       "      <td>...</td>\n",
       "      <td>1.619167e+07</td>\n",
       "      <td>1.176343e+07</td>\n",
       "      <td>1.788370e+07</td>\n",
       "      <td>1.967816e+07</td>\n",
       "      <td>5.266097e+08</td>\n",
       "      <td>9.197207e+06</td>\n",
       "      <td>3.264510e+06</td>\n",
       "      <td>1.348742e+07</td>\n",
       "      <td>5.762885e+07</td>\n",
       "      <td>5.741753e+08</td>\n",
       "    </tr>\n",
       "    <tr>\n",
       "      <th>149997</th>\n",
       "      <td>7.34988326423461e+18</td>\n",
       "      <td>2019-04-29 07:28:00</td>\n",
       "      <td>483.0000</td>\n",
       "      <td>2019-04-30 10:41:00</td>\n",
       "      <td>187.00000</td>\n",
       "      <td>97970.0</td>\n",
       "      <td>208201908153249.0</td>\n",
       "      <td>33663449963.0</td>\n",
       "      <td>35660508296467.0</td>\n",
       "      <td>D10223C</td>\n",
       "      <td>...</td>\n",
       "      <td>1.387723e+07</td>\n",
       "      <td>8.288284e+06</td>\n",
       "      <td>1.935015e+07</td>\n",
       "      <td>2.129315e+07</td>\n",
       "      <td>6.268931e+08</td>\n",
       "      <td>4.735033e+06</td>\n",
       "      <td>7.121804e+08</td>\n",
       "      <td>2.457758e+06</td>\n",
       "      <td>3.913508e+07</td>\n",
       "      <td>6.666488e+08</td>\n",
       "    </tr>\n",
       "    <tr>\n",
       "      <th>149998</th>\n",
       "      <td>1.31144835733673e+19</td>\n",
       "      <td>2019-04-29 07:28:00</td>\n",
       "      <td>283.0000</td>\n",
       "      <td>2019-04-30 10:46:00</td>\n",
       "      <td>810.00000</td>\n",
       "      <td>98249.0</td>\n",
       "      <td>208201711161187.0</td>\n",
       "      <td>33621890103.0</td>\n",
       "      <td>35721209870907.0</td>\n",
       "      <td>T51102A</td>\n",
       "      <td>...</td>\n",
       "      <td>2.266051e+07</td>\n",
       "      <td>1.855903e+06</td>\n",
       "      <td>9.963942e+06</td>\n",
       "      <td>5.065760e+06</td>\n",
       "      <td>5.535395e+08</td>\n",
       "      <td>1.339432e+07</td>\n",
       "      <td>1.211009e+08</td>\n",
       "      <td>1.131473e+07</td>\n",
       "      <td>3.491222e+07</td>\n",
       "      <td>5.927864e+08</td>\n",
       "    </tr>\n",
       "    <tr>\n",
       "      <th>149999</th>\n",
       "      <td>1.31144835733673e+19</td>\n",
       "      <td>2019-04-29 07:28:00</td>\n",
       "      <td>696.0000</td>\n",
       "      <td>2019-04-30 10:40:00</td>\n",
       "      <td>327.00000</td>\n",
       "      <td>97910.0</td>\n",
       "      <td>208202101098075.0</td>\n",
       "      <td>33619622058.0</td>\n",
       "      <td>86186204011457.0</td>\n",
       "      <td>L88342B</td>\n",
       "      <td>...</td>\n",
       "      <td>8.817106e+06</td>\n",
       "      <td>8.305402e+06</td>\n",
       "      <td>3.322253e+06</td>\n",
       "      <td>1.317259e+07</td>\n",
       "      <td>3.525370e+08</td>\n",
       "      <td>2.529475e+06</td>\n",
       "      <td>8.147131e+08</td>\n",
       "      <td>1.406930e+06</td>\n",
       "      <td>2.962610e+07</td>\n",
       "      <td>3.718959e+08</td>\n",
       "    </tr>\n",
       "    <tr>\n",
       "      <th>150000</th>\n",
       "      <td>nan</td>\n",
       "      <td>2019-04-26 07:25:00</td>\n",
       "      <td>499.1882</td>\n",
       "      <td>2019-04-25 00:01:00</td>\n",
       "      <td>498.80088</td>\n",
       "      <td>86399.0</td>\n",
       "      <td>nan</td>\n",
       "      <td>nan</td>\n",
       "      <td>nan</td>\n",
       "      <td>D41377B</td>\n",
       "      <td>...</td>\n",
       "      <td>1.163407e+07</td>\n",
       "      <td>1.100941e+07</td>\n",
       "      <td>1.162685e+07</td>\n",
       "      <td>1.100175e+07</td>\n",
       "      <td>4.220447e+08</td>\n",
       "      <td>8.288398e+06</td>\n",
       "      <td>4.211005e+08</td>\n",
       "      <td>8.264799e+06</td>\n",
       "      <td>4.112121e+07</td>\n",
       "      <td>4.546434e+08</td>\n",
       "    </tr>\n",
       "  </tbody>\n",
       "</table>\n",
       "<p>5 rows × 55 columns</p>\n",
       "</div>"
      ],
      "text/plain": [
       "                   bearer_id                start  start_ms  \\\n",
       "149996  7.27782567019668e+18  2019-04-29 07:28:00  451.0000   \n",
       "149997  7.34988326423461e+18  2019-04-29 07:28:00  483.0000   \n",
       "149998  1.31144835733673e+19  2019-04-29 07:28:00  283.0000   \n",
       "149999  1.31144835733673e+19  2019-04-29 07:28:00  696.0000   \n",
       "150000                   nan  2019-04-26 07:25:00  499.1882   \n",
       "\n",
       "                        end     end_ms  dur._(ms)               imsi  \\\n",
       "149996  2019-04-30 06:02:00  214.00000    81230.0  208202201200072.0   \n",
       "149997  2019-04-30 10:41:00  187.00000    97970.0  208201908153249.0   \n",
       "149998  2019-04-30 10:46:00  810.00000    98249.0  208201711161187.0   \n",
       "149999  2019-04-30 10:40:00  327.00000    97910.0  208202101098075.0   \n",
       "150000  2019-04-25 00:01:00  498.80088    86399.0                nan   \n",
       "\n",
       "        msisdn/number              imei last_location_name  ...  \\\n",
       "149996  33650688697.0  35483109451938.0            D20434A  ...   \n",
       "149997  33663449963.0  35660508296467.0            D10223C  ...   \n",
       "149998  33621890103.0  35721209870907.0            T51102A  ...   \n",
       "149999  33619622058.0  86186204011457.0            L88342B  ...   \n",
       "150000            nan               nan            D41377B  ...   \n",
       "\n",
       "        youtube_dl_(bytes)  youtube_ul_(bytes)  netflix_dl_(bytes)  \\\n",
       "149996        1.619167e+07        1.176343e+07        1.788370e+07   \n",
       "149997        1.387723e+07        8.288284e+06        1.935015e+07   \n",
       "149998        2.266051e+07        1.855903e+06        9.963942e+06   \n",
       "149999        8.817106e+06        8.305402e+06        3.322253e+06   \n",
       "150000        1.163407e+07        1.100941e+07        1.162685e+07   \n",
       "\n",
       "        netflix_ul_(bytes)  gaming_dl_(bytes)  gaming_ul_(bytes)  \\\n",
       "149996        1.967816e+07       5.266097e+08       9.197207e+06   \n",
       "149997        2.129315e+07       6.268931e+08       4.735033e+06   \n",
       "149998        5.065760e+06       5.535395e+08       1.339432e+07   \n",
       "149999        1.317259e+07       3.525370e+08       2.529475e+06   \n",
       "150000        1.100175e+07       4.220447e+08       8.288398e+06   \n",
       "\n",
       "        other_dl_(bytes)  other_ul_(bytes)  total_ul_(bytes)  total_dl_(bytes)  \n",
       "149996      3.264510e+06      1.348742e+07      5.762885e+07      5.741753e+08  \n",
       "149997      7.121804e+08      2.457758e+06      3.913508e+07      6.666488e+08  \n",
       "149998      1.211009e+08      1.131473e+07      3.491222e+07      5.927864e+08  \n",
       "149999      8.147131e+08      1.406930e+06      2.962610e+07      3.718959e+08  \n",
       "150000      4.211005e+08      8.264799e+06      4.112121e+07      4.546434e+08  \n",
       "\n",
       "[5 rows x 55 columns]"
      ]
     },
     "execution_count": 3,
     "metadata": {},
     "output_type": "execute_result"
    }
   ],
   "source": [
    "cleaned_df.tail()"
   ]
  },
  {
   "cell_type": "code",
   "execution_count": 4,
   "metadata": {},
   "outputs": [
    {
     "name": "stdout",
     "output_type": "stream",
     "text": [
      "<class 'pandas.core.frame.DataFrame'>\n",
      "RangeIndex: 150001 entries, 0 to 150000\n",
      "Data columns (total 55 columns):\n",
      " #   Column                                    Non-Null Count   Dtype  \n",
      "---  ------                                    --------------   -----  \n",
      " 0   bearer_id                                 150001 non-null  object \n",
      " 1   start                                     150001 non-null  object \n",
      " 2   start_ms                                  150001 non-null  float64\n",
      " 3   end                                       150001 non-null  object \n",
      " 4   end_ms                                    150001 non-null  float64\n",
      " 5   dur._(ms)                                 150001 non-null  float64\n",
      " 6   imsi                                      150001 non-null  object \n",
      " 7   msisdn/number                             150001 non-null  object \n",
      " 8   imei                                      150001 non-null  object \n",
      " 9   last_location_name                        150001 non-null  object \n",
      " 10  avg_rtt_dl_(ms)                           150001 non-null  float64\n",
      " 11  avg_rtt_ul_(ms)                           150001 non-null  float64\n",
      " 12  avg_bearer_tp_dl_(kbps)                   150001 non-null  float64\n",
      " 13  avg_bearer_tp_ul_(kbps)                   150001 non-null  float64\n",
      " 14  tcp_dl_retrans._vol_(bytes)               150001 non-null  float64\n",
      " 15  tcp_ul_retrans._vol_(bytes)               150001 non-null  float64\n",
      " 16  dl_tp_<_50_kbps_(%)                       150001 non-null  float64\n",
      " 17  50_kbps_<_dl_tp_<_250_kbps_(%)            150001 non-null  float64\n",
      " 18  250_kbps_<_dl_tp_<_1_mbps_(%)             150001 non-null  float64\n",
      " 19  dl_tp_>_1_mbps_(%)                        150001 non-null  float64\n",
      " 20  ul_tp_<_10_kbps_(%)                       150001 non-null  float64\n",
      " 21  10_kbps_<_ul_tp_<_50_kbps_(%)             150001 non-null  float64\n",
      " 22  50_kbps_<_ul_tp_<_300_kbps_(%)            150001 non-null  float64\n",
      " 23  ul_tp_>_300_kbps_(%)                      150001 non-null  float64\n",
      " 24  http_dl_(bytes)                           150001 non-null  float64\n",
      " 25  http_ul_(bytes)                           150001 non-null  float64\n",
      " 26  activity_duration_dl_(ms)                 150001 non-null  float64\n",
      " 27  activity_duration_ul_(ms)                 150001 non-null  float64\n",
      " 28  dur._(ms).1                               150001 non-null  float64\n",
      " 29  handset_manufacturer                      150001 non-null  object \n",
      " 30  handset_type                              150001 non-null  object \n",
      " 31  nb_of_sec_with_125000b_<_vol_dl           150001 non-null  float64\n",
      " 32  nb_of_sec_with_1250b_<_vol_ul_<_6250b     150001 non-null  float64\n",
      " 33  nb_of_sec_with_31250b_<_vol_dl_<_125000b  150001 non-null  float64\n",
      " 34  nb_of_sec_with_37500b_<_vol_ul            150001 non-null  float64\n",
      " 35  nb_of_sec_with_6250b_<_vol_dl_<_31250b    150001 non-null  float64\n",
      " 36  nb_of_sec_with_6250b_<_vol_ul_<_37500b    150001 non-null  float64\n",
      " 37  nb_of_sec_with_vol_dl_<_6250b             150001 non-null  float64\n",
      " 38  nb_of_sec_with_vol_ul_<_1250b             150001 non-null  float64\n",
      " 39  social_media_dl_(bytes)                   150001 non-null  float64\n",
      " 40  social_media_ul_(bytes)                   150001 non-null  float64\n",
      " 41  google_dl_(bytes)                         150001 non-null  float64\n",
      " 42  google_ul_(bytes)                         150001 non-null  float64\n",
      " 43  email_dl_(bytes)                          150001 non-null  float64\n",
      " 44  email_ul_(bytes)                          150001 non-null  float64\n",
      " 45  youtube_dl_(bytes)                        150001 non-null  float64\n",
      " 46  youtube_ul_(bytes)                        150001 non-null  float64\n",
      " 47  netflix_dl_(bytes)                        150001 non-null  float64\n",
      " 48  netflix_ul_(bytes)                        150001 non-null  float64\n",
      " 49  gaming_dl_(bytes)                         150001 non-null  float64\n",
      " 50  gaming_ul_(bytes)                         150001 non-null  float64\n",
      " 51  other_dl_(bytes)                          150001 non-null  float64\n",
      " 52  other_ul_(bytes)                          150001 non-null  float64\n",
      " 53  total_ul_(bytes)                          150001 non-null  float64\n",
      " 54  total_dl_(bytes)                          150001 non-null  float64\n",
      "dtypes: float64(46), object(9)\n",
      "memory usage: 62.9+ MB\n"
     ]
    }
   ],
   "source": [
    "cleaned_df.info()"
   ]
  },
  {
   "cell_type": "code",
   "execution_count": 5,
   "metadata": {},
   "outputs": [
    {
     "data": {
      "text/plain": [
       "bearer_id                                   0\n",
       "start                                       0\n",
       "start_ms                                    0\n",
       "end                                         0\n",
       "end_ms                                      0\n",
       "dur._(ms)                                   0\n",
       "imsi                                        0\n",
       "msisdn/number                               0\n",
       "imei                                        0\n",
       "last_location_name                          0\n",
       "avg_rtt_dl_(ms)                             0\n",
       "avg_rtt_ul_(ms)                             0\n",
       "avg_bearer_tp_dl_(kbps)                     0\n",
       "avg_bearer_tp_ul_(kbps)                     0\n",
       "tcp_dl_retrans._vol_(bytes)                 0\n",
       "tcp_ul_retrans._vol_(bytes)                 0\n",
       "dl_tp_<_50_kbps_(%)                         0\n",
       "50_kbps_<_dl_tp_<_250_kbps_(%)              0\n",
       "250_kbps_<_dl_tp_<_1_mbps_(%)               0\n",
       "dl_tp_>_1_mbps_(%)                          0\n",
       "ul_tp_<_10_kbps_(%)                         0\n",
       "10_kbps_<_ul_tp_<_50_kbps_(%)               0\n",
       "50_kbps_<_ul_tp_<_300_kbps_(%)              0\n",
       "ul_tp_>_300_kbps_(%)                        0\n",
       "http_dl_(bytes)                             0\n",
       "http_ul_(bytes)                             0\n",
       "activity_duration_dl_(ms)                   0\n",
       "activity_duration_ul_(ms)                   0\n",
       "dur._(ms).1                                 0\n",
       "handset_manufacturer                        0\n",
       "handset_type                                0\n",
       "nb_of_sec_with_125000b_<_vol_dl             0\n",
       "nb_of_sec_with_1250b_<_vol_ul_<_6250b       0\n",
       "nb_of_sec_with_31250b_<_vol_dl_<_125000b    0\n",
       "nb_of_sec_with_37500b_<_vol_ul              0\n",
       "nb_of_sec_with_6250b_<_vol_dl_<_31250b      0\n",
       "nb_of_sec_with_6250b_<_vol_ul_<_37500b      0\n",
       "nb_of_sec_with_vol_dl_<_6250b               0\n",
       "nb_of_sec_with_vol_ul_<_1250b               0\n",
       "social_media_dl_(bytes)                     0\n",
       "social_media_ul_(bytes)                     0\n",
       "google_dl_(bytes)                           0\n",
       "google_ul_(bytes)                           0\n",
       "email_dl_(bytes)                            0\n",
       "email_ul_(bytes)                            0\n",
       "youtube_dl_(bytes)                          0\n",
       "youtube_ul_(bytes)                          0\n",
       "netflix_dl_(bytes)                          0\n",
       "netflix_ul_(bytes)                          0\n",
       "gaming_dl_(bytes)                           0\n",
       "gaming_ul_(bytes)                           0\n",
       "other_dl_(bytes)                            0\n",
       "other_ul_(bytes)                            0\n",
       "total_ul_(bytes)                            0\n",
       "total_dl_(bytes)                            0\n",
       "dtype: int64"
      ]
     },
     "execution_count": 5,
     "metadata": {},
     "output_type": "execute_result"
    }
   ],
   "source": [
    "cleaned_df.isnull().sum()"
   ]
  },
  {
   "cell_type": "code",
   "execution_count": 6,
   "metadata": {},
   "outputs": [
    {
     "data": {
      "text/plain": [
       "(150001, 55)"
      ]
     },
     "execution_count": 6,
     "metadata": {},
     "output_type": "execute_result"
    }
   ],
   "source": [
    "cleaned_df.shape"
   ]
  },
  {
   "cell_type": "markdown",
   "metadata": {},
   "source": [
    "# Task 1\n",
    "### Top 10 handset types"
   ]
  },
  {
   "cell_type": "code",
   "execution_count": 7,
   "metadata": {},
   "outputs": [
    {
     "data": {
      "text/plain": [
       "Huawei B528S-23A                19752\n",
       "Apple iPhone 6S (A1688)          9419\n",
       "Apple iPhone 6 (A1586)           9023\n",
       "undefined                        8987\n",
       "Apple iPhone 7 (A1778)           6326\n",
       "Apple iPhone Se (A1723)          5187\n",
       "Apple iPhone 8 (A1905)           4993\n",
       "Apple iPhone Xr (A2105)          4568\n",
       "Samsung Galaxy S8 (Sm-G950F)     4520\n",
       "Apple iPhone X (A1901)           3813\n",
       "Name: handset_type, dtype: int64"
      ]
     },
     "execution_count": 7,
     "metadata": {},
     "output_type": "execute_result"
    }
   ],
   "source": [
    "cleaned_df[\"handset_type\"].value_counts()[:10]"
   ]
  },
  {
   "cell_type": "code",
   "execution_count": 8,
   "metadata": {},
   "outputs": [],
   "source": [
    "# pd.reset_option(\"display.max_columns\")\n",
    "# pd.reset_option(\"display.max_rows\")"
   ]
  },
  {
   "cell_type": "code",
   "execution_count": 9,
   "metadata": {},
   "outputs": [
    {
     "data": {
      "image/png": "[encoded data removed]",
      "text/plain": [
       "<Figure size 432x288 with 1 Axes>"
      ]
     },
     "metadata": {
      "needs_background": "light"
     },
     "output_type": "display_data"
    }
   ],
   "source": [
    "cleaned_df[\"handset_type\"].value_counts()[:10].plot(kind=\"barh\",title=\"top 10 handset types\")\n",
    "plt.show()"
   ]
  },
  {
   "cell_type": "markdown",
   "metadata": {},
   "source": [
    "### Top 3 handset manufacturers"
   ]
  },
  {
   "cell_type": "code",
   "execution_count": 10,
   "metadata": {},
   "outputs": [
    {
     "data": {
      "text/plain": [
       "Apple                                   60137\n",
       "Samsung                                 40839\n",
       "Huawei                                  34423\n",
       "undefined                                8987\n",
       "Sony Mobile Communications Ab             980\n",
       "Wiko Global Sasu                          747\n",
       "Xiaomi Communications Co Ltd              397\n",
       "Oneplus Technology (Shenzhen) Co Ltd      342\n",
       "Asustek                                   285\n",
       "Lenovo                                    254\n",
       "Name: handset_manufacturer, dtype: int64"
      ]
     },
     "execution_count": 10,
     "metadata": {},
     "output_type": "execute_result"
    }
   ],
   "source": [
    "cleaned_df[\"handset_manufacturer\"].value_counts()[:10]\n"
   ]
  },
  {
   "cell_type": "code",
   "execution_count": 12,
   "metadata": {},
   "outputs": [
    {
     "data": {
      "image/png": "[encoded data removed]",
      "text/plain": [
       "<Figure size 432x288 with 1 Axes>"
      ]
     },
     "metadata": {
      "needs_background": "light"
     },
     "output_type": "display_data"
    }
   ],
   "source": [
    "cleaned_df[\"handset_manufacturer\"].value_counts()[:3].plot(kind=\"bar\",title=\"Top 3 handset Manufacturers\")\n",
    "plt.show()"
   ]
  }
 ],
 "metadata": {
  "kernelspec": {
   "display_name": "Python 3.10.5 64-bit",
   "language": "python",
   "name": "python3"
  },
  "language_info": {
   "codemirror_mode": {
    "name": "ipython",
    "version": 3
   },
   "file_extension": ".py",
   "mimetype": "text/x-python",
   "name": "python",
   "nbconvert_exporter": "python",
   "pygments_lexer": "ipython3",
   "version": "3.10.5"
  },
  "orig_nbformat": 4,
  "vscode": {
   "interpreter": {
    "hash": "b1991c03751bb1ed07063b349673f109e299af7bd2e157024b7d7177e34b5cc3"
   }
  }
 },
 "nbformat": 4,
 "nbformat_minor": 2
}
