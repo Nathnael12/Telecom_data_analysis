{
 "cells": [
  {
   "cell_type": "code",
   "execution_count": 89,
   "metadata": {},
   "outputs": [],
   "source": [
    "import pandas as pd\n",
    "import numpy as np\n",
    "import seaborn as sns\n",
    "import matplotlib.pyplot as plt\n",
    "from sklearn.cluster import KMeans\n",
    "from kneed import KneeLocator\n",
    "import os\n",
    "import sys\n",
    "import pickle\n",
    "\n",
    "sys.path.append(\"../scripts\")\n",
    "from utils import Utils\n",
    "from clean_data import DataCleaner\n",
    "\n",
    "cleaner = DataCleaner()\n",
    "utility = Utils()"
   ]
  },
  {
   "cell_type": "code",
   "execution_count": 2,
   "metadata": {},
   "outputs": [],
   "source": [
    "cleaned_df=utility.load_data(\"../data/cleaned_data.csv\")\n",
    "# since our csv file doesn't have a meta data of columns dtype, we manually convert ['bearer_id', 'imsi', 'msisdn/number', 'imei','handset_type'] to string once again\n",
    "cleaned_df=cleaner.convert_to_string(cleaned_df)"
   ]
  },
  {
   "cell_type": "code",
   "execution_count": 3,
   "metadata": {},
   "outputs": [
    {
     "data": {
      "text/plain": [
       "(150001, 55)"
      ]
     },
     "execution_count": 3,
     "metadata": {},
     "output_type": "execute_result"
    }
   ],
   "source": [
    "cleaned_df.shape"
   ]
  },
  {
   "cell_type": "code",
   "execution_count": 4,
   "metadata": {},
   "outputs": [
    {
     "data": {
      "text/plain": [
       "0"
      ]
     },
     "execution_count": 4,
     "metadata": {},
     "output_type": "execute_result"
    }
   ],
   "source": [
    "cleaned_df.isnull().sum().sum()"
   ]
  },
  {
   "cell_type": "code",
   "execution_count": 5,
   "metadata": {},
   "outputs": [],
   "source": [
    "#Group data by MSISDN\n",
    "msisdn_group = cleaned_df.groupby(\"msisdn/number\")"
   ]
  },
  {
   "cell_type": "markdown",
   "metadata": {},
   "source": [
    "session Frequency"
   ]
  },
  {
   "cell_type": "code",
   "execution_count": 26,
   "metadata": {},
   "outputs": [
    {
     "data": {
      "text/html": [
       "<div>\n",
       "<style scoped>\n",
       "    .dataframe tbody tr th:only-of-type {\n",
       "        vertical-align: middle;\n",
       "    }\n",
       "\n",
       "    .dataframe tbody tr th {\n",
       "        vertical-align: top;\n",
       "    }\n",
       "\n",
       "    .dataframe thead th {\n",
       "        text-align: right;\n",
       "    }\n",
       "</style>\n",
       "<table border=\"1\" class=\"dataframe\">\n",
       "  <thead>\n",
       "    <tr style=\"text-align: right;\">\n",
       "      <th></th>\n",
       "      <th>session_frequency</th>\n",
       "    </tr>\n",
       "    <tr>\n",
       "      <th>msisdn/number</th>\n",
       "      <th></th>\n",
       "    </tr>\n",
       "  </thead>\n",
       "  <tbody>\n",
       "    <tr>\n",
       "      <th>33626320676.0</th>\n",
       "      <td>18</td>\n",
       "    </tr>\n",
       "    <tr>\n",
       "      <th>33625779332.0</th>\n",
       "      <td>17</td>\n",
       "    </tr>\n",
       "    <tr>\n",
       "      <th>33614892860.0</th>\n",
       "      <td>17</td>\n",
       "    </tr>\n",
       "    <tr>\n",
       "      <th>33659725664.0</th>\n",
       "      <td>16</td>\n",
       "    </tr>\n",
       "    <tr>\n",
       "      <th>33760536639.0</th>\n",
       "      <td>15</td>\n",
       "    </tr>\n",
       "    <tr>\n",
       "      <th>33675877202.0</th>\n",
       "      <td>15</td>\n",
       "    </tr>\n",
       "    <tr>\n",
       "      <th>33667163239.0</th>\n",
       "      <td>13</td>\n",
       "    </tr>\n",
       "    <tr>\n",
       "      <th>33604515716.0</th>\n",
       "      <td>12</td>\n",
       "    </tr>\n",
       "    <tr>\n",
       "      <th>33786323068.0</th>\n",
       "      <td>12</td>\n",
       "    </tr>\n",
       "    <tr>\n",
       "      <th>33603127838.0</th>\n",
       "      <td>12</td>\n",
       "    </tr>\n",
       "  </tbody>\n",
       "</table>\n",
       "</div>"
      ],
      "text/plain": [
       "               session_frequency\n",
       "msisdn/number                   \n",
       "33626320676.0                 18\n",
       "33625779332.0                 17\n",
       "33614892860.0                 17\n",
       "33659725664.0                 16\n",
       "33760536639.0                 15\n",
       "33675877202.0                 15\n",
       "33667163239.0                 13\n",
       "33604515716.0                 12\n",
       "33786323068.0                 12\n",
       "33603127838.0                 12"
      ]
     },
     "execution_count": 26,
     "metadata": {},
     "output_type": "execute_result"
    }
   ],
   "source": [
    "session_freq=msisdn_group.agg({\"bearer_id\":\"count\"})\n",
    "\n",
    "session_freq.rename(columns={\"bearer_id\":\"session_frequency\"},inplace=True)\n",
    "\n",
    "session_freq.sort_values(by=[\"session_frequency\"],ascending=False,inplace=True)\n",
    "session_freq.drop(['nan'],axis=0,inplace=True)\n",
    "session_freq.head(10)"
   ]
  },
  {
   "cell_type": "markdown",
   "metadata": {},
   "source": [
    "session duration"
   ]
  },
  {
   "cell_type": "code",
   "execution_count": 28,
   "metadata": {},
   "outputs": [
    {
     "data": {
      "text/html": [
       "<div>\n",
       "<style scoped>\n",
       "    .dataframe tbody tr th:only-of-type {\n",
       "        vertical-align: middle;\n",
       "    }\n",
       "\n",
       "    .dataframe tbody tr th {\n",
       "        vertical-align: top;\n",
       "    }\n",
       "\n",
       "    .dataframe thead th {\n",
       "        text-align: right;\n",
       "    }\n",
       "</style>\n",
       "<table border=\"1\" class=\"dataframe\">\n",
       "  <thead>\n",
       "    <tr style=\"text-align: right;\">\n",
       "      <th></th>\n",
       "      <th>duration_ms</th>\n",
       "    </tr>\n",
       "    <tr>\n",
       "      <th>msisdn/number</th>\n",
       "      <th></th>\n",
       "    </tr>\n",
       "  </thead>\n",
       "  <tbody>\n",
       "    <tr>\n",
       "      <th>33625779332.0</th>\n",
       "      <td>18553754.0</td>\n",
       "    </tr>\n",
       "    <tr>\n",
       "      <th>33614892860.0</th>\n",
       "      <td>9966898.0</td>\n",
       "    </tr>\n",
       "    <tr>\n",
       "      <th>33760536639.0</th>\n",
       "      <td>9279434.0</td>\n",
       "    </tr>\n",
       "    <tr>\n",
       "      <th>33626320676.0</th>\n",
       "      <td>8791927.0</td>\n",
       "    </tr>\n",
       "    <tr>\n",
       "      <th>33667163239.0</th>\n",
       "      <td>8744914.0</td>\n",
       "    </tr>\n",
       "    <tr>\n",
       "      <th>33662840755.0</th>\n",
       "      <td>6614270.0</td>\n",
       "    </tr>\n",
       "    <tr>\n",
       "      <th>33664693736.0</th>\n",
       "      <td>6288730.0</td>\n",
       "    </tr>\n",
       "    <tr>\n",
       "      <th>33603127838.0</th>\n",
       "      <td>6287761.0</td>\n",
       "    </tr>\n",
       "    <tr>\n",
       "      <th>33667456716.0</th>\n",
       "      <td>5649882.0</td>\n",
       "    </tr>\n",
       "    <tr>\n",
       "      <th>33760413819.0</th>\n",
       "      <td>5321667.0</td>\n",
       "    </tr>\n",
       "  </tbody>\n",
       "</table>\n",
       "</div>"
      ],
      "text/plain": [
       "               duration_ms\n",
       "msisdn/number             \n",
       "33625779332.0   18553754.0\n",
       "33614892860.0    9966898.0\n",
       "33760536639.0    9279434.0\n",
       "33626320676.0    8791927.0\n",
       "33667163239.0    8744914.0\n",
       "33662840755.0    6614270.0\n",
       "33664693736.0    6288730.0\n",
       "33603127838.0    6287761.0\n",
       "33667456716.0    5649882.0\n",
       "33760413819.0    5321667.0"
      ]
     },
     "execution_count": 28,
     "metadata": {},
     "output_type": "execute_result"
    }
   ],
   "source": [
    "session_dur=msisdn_group.agg({\"dur._(ms)\":\"sum\"})\n",
    "session_dur.rename(columns={\"dur._(ms)\":\"duration_ms\"},inplace=True)\n",
    "session_dur.sort_values(by=['duration_ms'],ascending=False,inplace=True)\n",
    "session_dur.drop(['nan'],axis=0,inplace=True)\n",
    "session_dur.head(10)"
   ]
  },
  {
   "cell_type": "code",
   "execution_count": 31,
   "metadata": {},
   "outputs": [
    {
     "data": {
      "text/html": [
       "<div>\n",
       "<style scoped>\n",
       "    .dataframe tbody tr th:only-of-type {\n",
       "        vertical-align: middle;\n",
       "    }\n",
       "\n",
       "    .dataframe tbody tr th {\n",
       "        vertical-align: top;\n",
       "    }\n",
       "\n",
       "    .dataframe thead th {\n",
       "        text-align: right;\n",
       "    }\n",
       "</style>\n",
       "<table border=\"1\" class=\"dataframe\">\n",
       "  <thead>\n",
       "    <tr style=\"text-align: right;\">\n",
       "      <th></th>\n",
       "      <th>total_ul_(bytes)</th>\n",
       "      <th>total_dl_(bytes)</th>\n",
       "      <th>grand_total_(bytes)</th>\n",
       "    </tr>\n",
       "    <tr>\n",
       "      <th>msisdn/number</th>\n",
       "      <th></th>\n",
       "      <th></th>\n",
       "      <th></th>\n",
       "    </tr>\n",
       "  </thead>\n",
       "  <tbody>\n",
       "    <tr>\n",
       "      <th>33614892860.0</th>\n",
       "      <td>689483001.0</td>\n",
       "      <td>8.156743e+09</td>\n",
       "      <td>8.846226e+09</td>\n",
       "    </tr>\n",
       "    <tr>\n",
       "      <th>33760536639.0</th>\n",
       "      <td>703478581.0</td>\n",
       "      <td>7.811295e+09</td>\n",
       "      <td>8.514774e+09</td>\n",
       "    </tr>\n",
       "    <tr>\n",
       "      <th>33625779332.0</th>\n",
       "      <td>729577380.0</td>\n",
       "      <td>7.770043e+09</td>\n",
       "      <td>8.499621e+09</td>\n",
       "    </tr>\n",
       "    <tr>\n",
       "      <th>33626320676.0</th>\n",
       "      <td>669650721.0</td>\n",
       "      <td>7.301517e+09</td>\n",
       "      <td>7.971167e+09</td>\n",
       "    </tr>\n",
       "    <tr>\n",
       "      <th>33675877202.0</th>\n",
       "      <td>581568792.0</td>\n",
       "      <td>7.309542e+09</td>\n",
       "      <td>7.891111e+09</td>\n",
       "    </tr>\n",
       "    <tr>\n",
       "      <th>33659725664.0</th>\n",
       "      <td>624260321.0</td>\n",
       "      <td>7.081602e+09</td>\n",
       "      <td>7.705863e+09</td>\n",
       "    </tr>\n",
       "    <tr>\n",
       "      <th>33666464084.0</th>\n",
       "      <td>405060976.0</td>\n",
       "      <td>6.903440e+09</td>\n",
       "      <td>7.308501e+09</td>\n",
       "    </tr>\n",
       "    <tr>\n",
       "      <th>33760413819.0</th>\n",
       "      <td>521518890.0</td>\n",
       "      <td>6.610852e+09</td>\n",
       "      <td>7.132371e+09</td>\n",
       "    </tr>\n",
       "    <tr>\n",
       "      <th>33664712899.0</th>\n",
       "      <td>471244453.0</td>\n",
       "      <td>6.400774e+09</td>\n",
       "      <td>6.872018e+09</td>\n",
       "    </tr>\n",
       "    <tr>\n",
       "      <th>33698792269.0</th>\n",
       "      <td>530343105.0</td>\n",
       "      <td>6.010556e+09</td>\n",
       "      <td>6.540899e+09</td>\n",
       "    </tr>\n",
       "  </tbody>\n",
       "</table>\n",
       "</div>"
      ],
      "text/plain": [
       "               total_ul_(bytes)  total_dl_(bytes)  grand_total_(bytes)\n",
       "msisdn/number                                                         \n",
       "33614892860.0       689483001.0      8.156743e+09         8.846226e+09\n",
       "33760536639.0       703478581.0      7.811295e+09         8.514774e+09\n",
       "33625779332.0       729577380.0      7.770043e+09         8.499621e+09\n",
       "33626320676.0       669650721.0      7.301517e+09         7.971167e+09\n",
       "33675877202.0       581568792.0      7.309542e+09         7.891111e+09\n",
       "33659725664.0       624260321.0      7.081602e+09         7.705863e+09\n",
       "33666464084.0       405060976.0      6.903440e+09         7.308501e+09\n",
       "33760413819.0       521518890.0      6.610852e+09         7.132371e+09\n",
       "33664712899.0       471244453.0      6.400774e+09         6.872018e+09\n",
       "33698792269.0       530343105.0      6.010556e+09         6.540899e+09"
      ]
     },
     "execution_count": 31,
     "metadata": {},
     "output_type": "execute_result"
    }
   ],
   "source": [
    "cleaned_df[\"grand_total\"]=cleaned_df['total_ul_(bytes)']+cleaned_df['total_dl_(bytes)']\n",
    "total_data=msisdn_group.agg({'total_ul_(bytes)':'sum','total_dl_(bytes)':'sum'})\n",
    "total_data['grand_total_(bytes)']=total_data['total_ul_(bytes)']+total_data['total_dl_(bytes)']\n",
    "total_data.sort_values(by=['grand_total_(bytes)'],ascending=False,inplace=True)\n",
    "total_data.drop(['nan'],axis=0,inplace=True)\n",
    "total_data.head(10)"
   ]
  },
  {
   "cell_type": "code",
   "execution_count": 34,
   "metadata": {},
   "outputs": [
    {
     "data": {
      "text/html": [
       "<div>\n",
       "<style scoped>\n",
       "    .dataframe tbody tr th:only-of-type {\n",
       "        vertical-align: middle;\n",
       "    }\n",
       "\n",
       "    .dataframe tbody tr th {\n",
       "        vertical-align: top;\n",
       "    }\n",
       "\n",
       "    .dataframe thead th {\n",
       "        text-align: right;\n",
       "    }\n",
       "</style>\n",
       "<table border=\"1\" class=\"dataframe\">\n",
       "  <thead>\n",
       "    <tr style=\"text-align: right;\">\n",
       "      <th></th>\n",
       "      <th>session_traffic(bytes)</th>\n",
       "      <th>session_duration(ms)</th>\n",
       "      <th>session_freq</th>\n",
       "    </tr>\n",
       "    <tr>\n",
       "      <th>msisdn/number</th>\n",
       "      <th></th>\n",
       "      <th></th>\n",
       "      <th></th>\n",
       "    </tr>\n",
       "  </thead>\n",
       "  <tbody>\n",
       "    <tr>\n",
       "      <th>3197020876596.0</th>\n",
       "      <td>2.321240e+08</td>\n",
       "      <td>877385.0</td>\n",
       "      <td>1</td>\n",
       "    </tr>\n",
       "    <tr>\n",
       "      <th>33601001722.0</th>\n",
       "      <td>8.786906e+08</td>\n",
       "      <td>116720.0</td>\n",
       "      <td>1</td>\n",
       "    </tr>\n",
       "    <tr>\n",
       "      <th>33601001754.0</th>\n",
       "      <td>1.568596e+08</td>\n",
       "      <td>181230.0</td>\n",
       "      <td>1</td>\n",
       "    </tr>\n",
       "    <tr>\n",
       "      <th>33601002511.0</th>\n",
       "      <td>5.959665e+08</td>\n",
       "      <td>134969.0</td>\n",
       "      <td>1</td>\n",
       "    </tr>\n",
       "    <tr>\n",
       "      <th>33601007832.0</th>\n",
       "      <td>4.223207e+08</td>\n",
       "      <td>49878.0</td>\n",
       "      <td>1</td>\n",
       "    </tr>\n",
       "    <tr>\n",
       "      <th>...</th>\n",
       "      <td>...</td>\n",
       "      <td>...</td>\n",
       "      <td>...</td>\n",
       "    </tr>\n",
       "    <tr>\n",
       "      <th>33789967113.0</th>\n",
       "      <td>2.081231e+08</td>\n",
       "      <td>160461.0</td>\n",
       "      <td>1</td>\n",
       "    </tr>\n",
       "    <tr>\n",
       "      <th>33789980299.0</th>\n",
       "      <td>1.094693e+09</td>\n",
       "      <td>210389.0</td>\n",
       "      <td>2</td>\n",
       "    </tr>\n",
       "    <tr>\n",
       "      <th>33789996170.0</th>\n",
       "      <td>7.146416e+08</td>\n",
       "      <td>8810.0</td>\n",
       "      <td>1</td>\n",
       "    </tr>\n",
       "    <tr>\n",
       "      <th>33789997247.0</th>\n",
       "      <td>4.803073e+08</td>\n",
       "      <td>140988.0</td>\n",
       "      <td>1</td>\n",
       "    </tr>\n",
       "    <tr>\n",
       "      <th>882397108489451.0</th>\n",
       "      <td>1.391536e+08</td>\n",
       "      <td>869844.0</td>\n",
       "      <td>1</td>\n",
       "    </tr>\n",
       "  </tbody>\n",
       "</table>\n",
       "<p>106856 rows × 3 columns</p>\n",
       "</div>"
      ],
      "text/plain": [
       "                   session_traffic(bytes)  session_duration(ms)  session_freq\n",
       "msisdn/number                                                                \n",
       "3197020876596.0              2.321240e+08              877385.0             1\n",
       "33601001722.0                8.786906e+08              116720.0             1\n",
       "33601001754.0                1.568596e+08              181230.0             1\n",
       "33601002511.0                5.959665e+08              134969.0             1\n",
       "33601007832.0                4.223207e+08               49878.0             1\n",
       "...                                   ...                   ...           ...\n",
       "33789967113.0                2.081231e+08              160461.0             1\n",
       "33789980299.0                1.094693e+09              210389.0             2\n",
       "33789996170.0                7.146416e+08                8810.0             1\n",
       "33789997247.0                4.803073e+08              140988.0             1\n",
       "882397108489451.0            1.391536e+08              869844.0             1\n",
       "\n",
       "[106856 rows x 3 columns]"
      ]
     },
     "execution_count": 34,
     "metadata": {},
     "output_type": "execute_result"
    }
   ],
   "source": [
    "\n",
    "# Aggregate User Engagement Metric\n",
    "user_engagement = msisdn_group.agg({'grand_total': 'sum', 'dur._(ms)': 'sum','bearer_id': 'count'})\n",
    "user_engagement = user_engagement.rename(columns={'grand_total': 'session_traffic(bytes)', 'dur._(ms)': 'session_duration(ms)', 'bearer_id': 'session_freq'})\n",
    "user_engagement.drop(['nan'],axis=0,inplace=True)\n",
    "user_engagement\n"
   ]
  },
  {
   "cell_type": "markdown",
   "metadata": {},
   "source": [
    "## Top 10 customers per engagement metric"
   ]
  },
  {
   "cell_type": "code",
   "execution_count": 48,
   "metadata": {},
   "outputs": [],
   "source": [
    "\n",
    "\n",
    "# print(\"Top 10 Customers per engagement by Session Traffic\")\n",
    "# print(user_engagement.sort_values(by=['session_traffic(bytes)'],ascending=False).head(10))\n",
    "# print()\n",
    "\n",
    "# print(\"Top 10 Customers per engagement by Session Duration\")\n",
    "# print(user_engagement.sort_values(by=['session_duration(ms)'],ascending=False).head(10))\n",
    "# print()\n",
    "\n",
    "# print(\"Top 10 Customers per engagement by Session Frequency\")\n",
    "# print(user_engagement.sort_values(by=['session_freq'],ascending=False).head(10))\n",
    "# print()"
   ]
  },
  {
   "cell_type": "markdown",
   "metadata": {},
   "source": [
    "### by session_traffic"
   ]
  },
  {
   "cell_type": "code",
   "execution_count": 37,
   "metadata": {},
   "outputs": [
    {
     "data": {
      "text/html": [
       "<div>\n",
       "<style scoped>\n",
       "    .dataframe tbody tr th:only-of-type {\n",
       "        vertical-align: middle;\n",
       "    }\n",
       "\n",
       "    .dataframe tbody tr th {\n",
       "        vertical-align: top;\n",
       "    }\n",
       "\n",
       "    .dataframe thead th {\n",
       "        text-align: right;\n",
       "    }\n",
       "</style>\n",
       "<table border=\"1\" class=\"dataframe\">\n",
       "  <thead>\n",
       "    <tr style=\"text-align: right;\">\n",
       "      <th></th>\n",
       "      <th>session_traffic(bytes)</th>\n",
       "      <th>session_duration(ms)</th>\n",
       "      <th>session_freq</th>\n",
       "    </tr>\n",
       "    <tr>\n",
       "      <th>msisdn/number</th>\n",
       "      <th></th>\n",
       "      <th></th>\n",
       "      <th></th>\n",
       "    </tr>\n",
       "  </thead>\n",
       "  <tbody>\n",
       "    <tr>\n",
       "      <th>33614892860.0</th>\n",
       "      <td>8.846226e+09</td>\n",
       "      <td>9966898.0</td>\n",
       "      <td>17</td>\n",
       "    </tr>\n",
       "    <tr>\n",
       "      <th>33760536639.0</th>\n",
       "      <td>8.514774e+09</td>\n",
       "      <td>9279434.0</td>\n",
       "      <td>15</td>\n",
       "    </tr>\n",
       "    <tr>\n",
       "      <th>33625779332.0</th>\n",
       "      <td>8.499621e+09</td>\n",
       "      <td>18553754.0</td>\n",
       "      <td>17</td>\n",
       "    </tr>\n",
       "    <tr>\n",
       "      <th>33626320676.0</th>\n",
       "      <td>7.971167e+09</td>\n",
       "      <td>8791927.0</td>\n",
       "      <td>18</td>\n",
       "    </tr>\n",
       "    <tr>\n",
       "      <th>33675877202.0</th>\n",
       "      <td>7.891111e+09</td>\n",
       "      <td>4865947.0</td>\n",
       "      <td>15</td>\n",
       "    </tr>\n",
       "    <tr>\n",
       "      <th>33659725664.0</th>\n",
       "      <td>7.705863e+09</td>\n",
       "      <td>4035428.0</td>\n",
       "      <td>16</td>\n",
       "    </tr>\n",
       "    <tr>\n",
       "      <th>33666464084.0</th>\n",
       "      <td>7.308501e+09</td>\n",
       "      <td>4536757.0</td>\n",
       "      <td>11</td>\n",
       "    </tr>\n",
       "    <tr>\n",
       "      <th>33760413819.0</th>\n",
       "      <td>7.132371e+09</td>\n",
       "      <td>5321667.0</td>\n",
       "      <td>12</td>\n",
       "    </tr>\n",
       "    <tr>\n",
       "      <th>33664712899.0</th>\n",
       "      <td>6.872018e+09</td>\n",
       "      <td>2927785.0</td>\n",
       "      <td>11</td>\n",
       "    </tr>\n",
       "    <tr>\n",
       "      <th>33698792269.0</th>\n",
       "      <td>6.540899e+09</td>\n",
       "      <td>5169128.0</td>\n",
       "      <td>11</td>\n",
       "    </tr>\n",
       "  </tbody>\n",
       "</table>\n",
       "</div>"
      ],
      "text/plain": [
       "               session_traffic(bytes)  session_duration(ms)  session_freq\n",
       "msisdn/number                                                            \n",
       "33614892860.0            8.846226e+09             9966898.0            17\n",
       "33760536639.0            8.514774e+09             9279434.0            15\n",
       "33625779332.0            8.499621e+09            18553754.0            17\n",
       "33626320676.0            7.971167e+09             8791927.0            18\n",
       "33675877202.0            7.891111e+09             4865947.0            15\n",
       "33659725664.0            7.705863e+09             4035428.0            16\n",
       "33666464084.0            7.308501e+09             4536757.0            11\n",
       "33760413819.0            7.132371e+09             5321667.0            12\n",
       "33664712899.0            6.872018e+09             2927785.0            11\n",
       "33698792269.0            6.540899e+09             5169128.0            11"
      ]
     },
     "execution_count": 37,
     "metadata": {},
     "output_type": "execute_result"
    }
   ],
   "source": [
    "user_engagement.sort_values(by=['session_traffic(bytes)'],ascending=False).head(10)"
   ]
  },
  {
   "cell_type": "markdown",
   "metadata": {},
   "source": [
    "### by session_duration"
   ]
  },
  {
   "cell_type": "code",
   "execution_count": 38,
   "metadata": {},
   "outputs": [
    {
     "data": {
      "text/html": [
       "<div>\n",
       "<style scoped>\n",
       "    .dataframe tbody tr th:only-of-type {\n",
       "        vertical-align: middle;\n",
       "    }\n",
       "\n",
       "    .dataframe tbody tr th {\n",
       "        vertical-align: top;\n",
       "    }\n",
       "\n",
       "    .dataframe thead th {\n",
       "        text-align: right;\n",
       "    }\n",
       "</style>\n",
       "<table border=\"1\" class=\"dataframe\">\n",
       "  <thead>\n",
       "    <tr style=\"text-align: right;\">\n",
       "      <th></th>\n",
       "      <th>session_traffic(bytes)</th>\n",
       "      <th>session_duration(ms)</th>\n",
       "      <th>session_freq</th>\n",
       "    </tr>\n",
       "    <tr>\n",
       "      <th>msisdn/number</th>\n",
       "      <th></th>\n",
       "      <th></th>\n",
       "      <th></th>\n",
       "    </tr>\n",
       "  </thead>\n",
       "  <tbody>\n",
       "    <tr>\n",
       "      <th>33625779332.0</th>\n",
       "      <td>8.499621e+09</td>\n",
       "      <td>18553754.0</td>\n",
       "      <td>17</td>\n",
       "    </tr>\n",
       "    <tr>\n",
       "      <th>33614892860.0</th>\n",
       "      <td>8.846226e+09</td>\n",
       "      <td>9966898.0</td>\n",
       "      <td>17</td>\n",
       "    </tr>\n",
       "    <tr>\n",
       "      <th>33760536639.0</th>\n",
       "      <td>8.514774e+09</td>\n",
       "      <td>9279434.0</td>\n",
       "      <td>15</td>\n",
       "    </tr>\n",
       "    <tr>\n",
       "      <th>33626320676.0</th>\n",
       "      <td>7.971167e+09</td>\n",
       "      <td>8791927.0</td>\n",
       "      <td>18</td>\n",
       "    </tr>\n",
       "    <tr>\n",
       "      <th>33667163239.0</th>\n",
       "      <td>5.618394e+09</td>\n",
       "      <td>8744914.0</td>\n",
       "      <td>13</td>\n",
       "    </tr>\n",
       "    <tr>\n",
       "      <th>33662840755.0</th>\n",
       "      <td>4.000098e+09</td>\n",
       "      <td>6614270.0</td>\n",
       "      <td>9</td>\n",
       "    </tr>\n",
       "    <tr>\n",
       "      <th>33664693736.0</th>\n",
       "      <td>5.682007e+09</td>\n",
       "      <td>6288730.0</td>\n",
       "      <td>9</td>\n",
       "    </tr>\n",
       "    <tr>\n",
       "      <th>33603127838.0</th>\n",
       "      <td>4.976195e+09</td>\n",
       "      <td>6287761.0</td>\n",
       "      <td>12</td>\n",
       "    </tr>\n",
       "    <tr>\n",
       "      <th>33667456716.0</th>\n",
       "      <td>2.600522e+09</td>\n",
       "      <td>5649882.0</td>\n",
       "      <td>6</td>\n",
       "    </tr>\n",
       "    <tr>\n",
       "      <th>33760413819.0</th>\n",
       "      <td>7.132371e+09</td>\n",
       "      <td>5321667.0</td>\n",
       "      <td>12</td>\n",
       "    </tr>\n",
       "  </tbody>\n",
       "</table>\n",
       "</div>"
      ],
      "text/plain": [
       "               session_traffic(bytes)  session_duration(ms)  session_freq\n",
       "msisdn/number                                                            \n",
       "33625779332.0            8.499621e+09            18553754.0            17\n",
       "33614892860.0            8.846226e+09             9966898.0            17\n",
       "33760536639.0            8.514774e+09             9279434.0            15\n",
       "33626320676.0            7.971167e+09             8791927.0            18\n",
       "33667163239.0            5.618394e+09             8744914.0            13\n",
       "33662840755.0            4.000098e+09             6614270.0             9\n",
       "33664693736.0            5.682007e+09             6288730.0             9\n",
       "33603127838.0            4.976195e+09             6287761.0            12\n",
       "33667456716.0            2.600522e+09             5649882.0             6\n",
       "33760413819.0            7.132371e+09             5321667.0            12"
      ]
     },
     "execution_count": 38,
     "metadata": {},
     "output_type": "execute_result"
    }
   ],
   "source": [
    "user_engagement.sort_values(by=['session_duration(ms)'],ascending=False).head(10)"
   ]
  },
  {
   "cell_type": "markdown",
   "metadata": {},
   "source": [
    "### by session_freq"
   ]
  },
  {
   "cell_type": "code",
   "execution_count": 39,
   "metadata": {},
   "outputs": [
    {
     "data": {
      "text/html": [
       "<div>\n",
       "<style scoped>\n",
       "    .dataframe tbody tr th:only-of-type {\n",
       "        vertical-align: middle;\n",
       "    }\n",
       "\n",
       "    .dataframe tbody tr th {\n",
       "        vertical-align: top;\n",
       "    }\n",
       "\n",
       "    .dataframe thead th {\n",
       "        text-align: right;\n",
       "    }\n",
       "</style>\n",
       "<table border=\"1\" class=\"dataframe\">\n",
       "  <thead>\n",
       "    <tr style=\"text-align: right;\">\n",
       "      <th></th>\n",
       "      <th>session_traffic(bytes)</th>\n",
       "      <th>session_duration(ms)</th>\n",
       "      <th>session_freq</th>\n",
       "    </tr>\n",
       "    <tr>\n",
       "      <th>msisdn/number</th>\n",
       "      <th></th>\n",
       "      <th></th>\n",
       "      <th></th>\n",
       "    </tr>\n",
       "  </thead>\n",
       "  <tbody>\n",
       "    <tr>\n",
       "      <th>33626320676.0</th>\n",
       "      <td>7.971167e+09</td>\n",
       "      <td>8791927.0</td>\n",
       "      <td>18</td>\n",
       "    </tr>\n",
       "    <tr>\n",
       "      <th>33614892860.0</th>\n",
       "      <td>8.846226e+09</td>\n",
       "      <td>9966898.0</td>\n",
       "      <td>17</td>\n",
       "    </tr>\n",
       "    <tr>\n",
       "      <th>33625779332.0</th>\n",
       "      <td>8.499621e+09</td>\n",
       "      <td>18553754.0</td>\n",
       "      <td>17</td>\n",
       "    </tr>\n",
       "    <tr>\n",
       "      <th>33659725664.0</th>\n",
       "      <td>7.705863e+09</td>\n",
       "      <td>4035428.0</td>\n",
       "      <td>16</td>\n",
       "    </tr>\n",
       "    <tr>\n",
       "      <th>33760536639.0</th>\n",
       "      <td>8.514774e+09</td>\n",
       "      <td>9279434.0</td>\n",
       "      <td>15</td>\n",
       "    </tr>\n",
       "    <tr>\n",
       "      <th>33675877202.0</th>\n",
       "      <td>7.891111e+09</td>\n",
       "      <td>4865947.0</td>\n",
       "      <td>15</td>\n",
       "    </tr>\n",
       "    <tr>\n",
       "      <th>33667163239.0</th>\n",
       "      <td>5.618394e+09</td>\n",
       "      <td>8744914.0</td>\n",
       "      <td>13</td>\n",
       "    </tr>\n",
       "    <tr>\n",
       "      <th>33627080969.0</th>\n",
       "      <td>5.754731e+09</td>\n",
       "      <td>4703516.0</td>\n",
       "      <td>12</td>\n",
       "    </tr>\n",
       "    <tr>\n",
       "      <th>33604515716.0</th>\n",
       "      <td>5.487855e+09</td>\n",
       "      <td>5207990.0</td>\n",
       "      <td>12</td>\n",
       "    </tr>\n",
       "    <tr>\n",
       "      <th>33786323068.0</th>\n",
       "      <td>5.622232e+09</td>\n",
       "      <td>4059652.0</td>\n",
       "      <td>12</td>\n",
       "    </tr>\n",
       "  </tbody>\n",
       "</table>\n",
       "</div>"
      ],
      "text/plain": [
       "               session_traffic(bytes)  session_duration(ms)  session_freq\n",
       "msisdn/number                                                            \n",
       "33626320676.0            7.971167e+09             8791927.0            18\n",
       "33614892860.0            8.846226e+09             9966898.0            17\n",
       "33625779332.0            8.499621e+09            18553754.0            17\n",
       "33659725664.0            7.705863e+09             4035428.0            16\n",
       "33760536639.0            8.514774e+09             9279434.0            15\n",
       "33675877202.0            7.891111e+09             4865947.0            15\n",
       "33667163239.0            5.618394e+09             8744914.0            13\n",
       "33627080969.0            5.754731e+09             4703516.0            12\n",
       "33604515716.0            5.487855e+09             5207990.0            12\n",
       "33786323068.0            5.622232e+09             4059652.0            12"
      ]
     },
     "execution_count": 39,
     "metadata": {},
     "output_type": "execute_result"
    }
   ],
   "source": [
    "user_engagement.sort_values(by=['session_freq'],ascending=False).head(10)"
   ]
  },
  {
   "cell_type": "code",
   "execution_count": 70,
   "metadata": {},
   "outputs": [
    {
     "data": {
      "image/png": "[encoded data removed]",
      "text/plain": [
       "<Figure size 1440x360 with 2 Axes>"
      ]
     },
     "metadata": {
      "needs_background": "light"
     },
     "output_type": "display_data"
    }
   ],
   "source": [
    "plt.figure(figsize=(20,5))\n",
    "\n",
    "plt.subplot(1,2,1,title=\"box plot representation\")\n",
    "sns.boxplot(data=user_engagement[['session_freq']],x=\"session_freq\")\n",
    "\n",
    "plt.subplot(1,2,2,title=\"kde visualization\")\n",
    "sns.kdeplot(data=user_engagement[['session_freq']])\n",
    "\n",
    "plt.show()"
   ]
  },
  {
   "cell_type": "code",
   "execution_count": 71,
   "metadata": {},
   "outputs": [
    {
     "data": {
      "image/png": "[encoded data removed]",
      "text/plain": [
       "<Figure size 1440x360 with 2 Axes>"
      ]
     },
     "metadata": {
      "needs_background": "light"
     },
     "output_type": "display_data"
    }
   ],
   "source": [
    "plt.figure(figsize=(20,5))\n",
    "\n",
    "plt.subplot(1,2,1,title=\"box plot representation\")\n",
    "sns.boxplot(data=user_engagement[['session_traffic(bytes)']],x=\"session_traffic(bytes)\")\n",
    "\n",
    "plt.subplot(1,2,2,title=\"kde visualization\")\n",
    "sns.kdeplot(data=user_engagement[['session_traffic(bytes)']])\n",
    "\n",
    "plt.show()"
   ]
  },
  {
   "cell_type": "code",
   "execution_count": 72,
   "metadata": {},
   "outputs": [
    {
     "data": {
      "image/png": "[encoded data removed]",
      "text/plain": [
       "<Figure size 1440x360 with 2 Axes>"
      ]
     },
     "metadata": {
      "needs_background": "light"
     },
     "output_type": "display_data"
    }
   ],
   "source": [
    "plt.figure(figsize=(20,5))\n",
    "\n",
    "plt.subplot(1,2,1,title=\"box plot representation\")\n",
    "sns.boxplot(data=user_engagement[['session_duration(ms)']],x=\"session_duration(ms)\")\n",
    "\n",
    "plt.subplot(1,2,2,title=\"kde visualization\")\n",
    "sns.kdeplot(data=user_engagement[['session_duration(ms)']])\n",
    "\n",
    "plt.show()"
   ]
  },
  {
   "cell_type": "markdown",
   "metadata": {},
   "source": [
    "handle outliers"
   ]
  },
  {
   "cell_type": "code",
   "execution_count": 76,
   "metadata": {},
   "outputs": [
    {
     "data": {
      "text/html": [
       "<div>\n",
       "<style scoped>\n",
       "    .dataframe tbody tr th:only-of-type {\n",
       "        vertical-align: middle;\n",
       "    }\n",
       "\n",
       "    .dataframe tbody tr th {\n",
       "        vertical-align: top;\n",
       "    }\n",
       "\n",
       "    .dataframe thead th {\n",
       "        text-align: right;\n",
       "    }\n",
       "</style>\n",
       "<table border=\"1\" class=\"dataframe\">\n",
       "  <thead>\n",
       "    <tr style=\"text-align: right;\">\n",
       "      <th></th>\n",
       "      <th>session_traffic(bytes)</th>\n",
       "      <th>session_duration(ms)</th>\n",
       "      <th>session_freq</th>\n",
       "    </tr>\n",
       "    <tr>\n",
       "      <th>msisdn/number</th>\n",
       "      <th></th>\n",
       "      <th></th>\n",
       "      <th></th>\n",
       "    </tr>\n",
       "  </thead>\n",
       "  <tbody>\n",
       "    <tr>\n",
       "      <th>3197020876596.0</th>\n",
       "      <td>2.321240e+08</td>\n",
       "      <td>325035.5</td>\n",
       "      <td>1.0</td>\n",
       "    </tr>\n",
       "    <tr>\n",
       "      <th>33601001722.0</th>\n",
       "      <td>8.786906e+08</td>\n",
       "      <td>116720.0</td>\n",
       "      <td>1.0</td>\n",
       "    </tr>\n",
       "    <tr>\n",
       "      <th>33601001754.0</th>\n",
       "      <td>1.568596e+08</td>\n",
       "      <td>181230.0</td>\n",
       "      <td>1.0</td>\n",
       "    </tr>\n",
       "    <tr>\n",
       "      <th>33601002511.0</th>\n",
       "      <td>5.959665e+08</td>\n",
       "      <td>134969.0</td>\n",
       "      <td>1.0</td>\n",
       "    </tr>\n",
       "    <tr>\n",
       "      <th>33601007832.0</th>\n",
       "      <td>4.223207e+08</td>\n",
       "      <td>49878.0</td>\n",
       "      <td>1.0</td>\n",
       "    </tr>\n",
       "    <tr>\n",
       "      <th>...</th>\n",
       "      <td>...</td>\n",
       "      <td>...</td>\n",
       "      <td>...</td>\n",
       "    </tr>\n",
       "    <tr>\n",
       "      <th>33789967113.0</th>\n",
       "      <td>2.081231e+08</td>\n",
       "      <td>160461.0</td>\n",
       "      <td>1.0</td>\n",
       "    </tr>\n",
       "    <tr>\n",
       "      <th>33789980299.0</th>\n",
       "      <td>1.094693e+09</td>\n",
       "      <td>210389.0</td>\n",
       "      <td>2.0</td>\n",
       "    </tr>\n",
       "    <tr>\n",
       "      <th>33789996170.0</th>\n",
       "      <td>7.146416e+08</td>\n",
       "      <td>8810.0</td>\n",
       "      <td>1.0</td>\n",
       "    </tr>\n",
       "    <tr>\n",
       "      <th>33789997247.0</th>\n",
       "      <td>4.803073e+08</td>\n",
       "      <td>140988.0</td>\n",
       "      <td>1.0</td>\n",
       "    </tr>\n",
       "    <tr>\n",
       "      <th>882397108489451.0</th>\n",
       "      <td>1.391536e+08</td>\n",
       "      <td>325035.5</td>\n",
       "      <td>1.0</td>\n",
       "    </tr>\n",
       "  </tbody>\n",
       "</table>\n",
       "<p>106856 rows × 3 columns</p>\n",
       "</div>"
      ],
      "text/plain": [
       "                   session_traffic(bytes)  session_duration(ms)  session_freq\n",
       "msisdn/number                                                                \n",
       "3197020876596.0              2.321240e+08              325035.5           1.0\n",
       "33601001722.0                8.786906e+08              116720.0           1.0\n",
       "33601001754.0                1.568596e+08              181230.0           1.0\n",
       "33601002511.0                5.959665e+08              134969.0           1.0\n",
       "33601007832.0                4.223207e+08               49878.0           1.0\n",
       "...                                   ...                   ...           ...\n",
       "33789967113.0                2.081231e+08              160461.0           1.0\n",
       "33789980299.0                1.094693e+09              210389.0           2.0\n",
       "33789996170.0                7.146416e+08                8810.0           1.0\n",
       "33789997247.0                4.803073e+08              140988.0           1.0\n",
       "882397108489451.0            1.391536e+08              325035.5           1.0\n",
       "\n",
       "[106856 rows x 3 columns]"
      ]
     },
     "execution_count": 76,
     "metadata": {},
     "output_type": "execute_result"
    }
   ],
   "source": [
    "cleaned_engagement_metric = cleaner.handle_outliers(user_engagement, 'session_freq')\n",
    "cleaned_engagement_metric = cleaner.handle_outliers(cleaned_engagement_metric, 'session_duration(ms)')\n",
    "cleaned_engagement_metric = cleaner.handle_outliers(cleaned_engagement_metric, 'session_traffic(bytes)')\n",
    "cleaned_engagement_metric2 = cleaned_engagement_metric.copy()\n",
    "cleaned_engagement_metric"
   ]
  },
  {
   "cell_type": "markdown",
   "metadata": {},
   "source": [
    "Data Distribution after handling outliers"
   ]
  },
  {
   "cell_type": "code",
   "execution_count": 82,
   "metadata": {},
   "outputs": [
    {
     "data": {
      "image/png": "[encoded data removed]",
      "text/plain": [
       "<Figure size 1440x360 with 2 Axes>"
      ]
     },
     "metadata": {
      "needs_background": "light"
     },
     "output_type": "display_data"
    }
   ],
   "source": [
    "plt.figure(figsize=(20,5))\n",
    "\n",
    "plt.subplot(1,2,1,title=\"box plot representation\")\n",
    "sns.boxplot(data=cleaned_engagement_metric[['session_freq']],x=\"session_freq\")\n",
    "\n",
    "plt.subplot(1,2,2,title=\"kde visualization\")\n",
    "sns.kdeplot(data=cleaned_engagement_metric[['session_freq']])\n",
    "\n",
    "plt.suptitle(\"Session Frequency Distribution\")\n",
    "plt.show()"
   ]
  },
  {
   "cell_type": "code",
   "execution_count": 83,
   "metadata": {},
   "outputs": [
    {
     "data": {
      "image/png": "[encoded data removed]",
      "text/plain": [
       "<Figure size 1440x360 with 2 Axes>"
      ]
     },
     "metadata": {
      "needs_background": "light"
     },
     "output_type": "display_data"
    }
   ],
   "source": [
    "plt.figure(figsize=(20,5))\n",
    "\n",
    "plt.subplot(1,2,1,title=\"box plot representation\")\n",
    "sns.boxplot(data=cleaned_engagement_metric[['session_traffic(bytes)']],x=\"session_traffic(bytes)\")\n",
    "\n",
    "plt.subplot(1,2,2,title=\"kde visualization\")\n",
    "sns.kdeplot(data=cleaned_engagement_metric[['session_traffic(bytes)']])\n",
    "\n",
    "plt.suptitle(\"Session Traffic Distribution\")\n",
    "plt.show()"
   ]
  },
  {
   "cell_type": "code",
   "execution_count": 84,
   "metadata": {},
   "outputs": [
    {
     "data": {
      "image/png": "[encoded data removed]",
      "text/plain": [
       "<Figure size 1440x360 with 2 Axes>"
      ]
     },
     "metadata": {
      "needs_background": "light"
     },
     "output_type": "display_data"
    }
   ],
   "source": [
    "plt.figure(figsize=(20,5))\n",
    "\n",
    "plt.subplot(1,2,1,title=\"box plot representation\")\n",
    "sns.boxplot(data=cleaned_engagement_metric[['session_duration(ms)']],x=\"session_duration(ms)\")\n",
    "\n",
    "plt.subplot(1,2,2,title=\"kde visualization\")\n",
    "sns.kdeplot(data=cleaned_engagement_metric[['session_duration(ms)']])\n",
    "\n",
    "plt.suptitle(\"Session Duration Distribution\")\n",
    "plt.show()"
   ]
  },
  {
   "cell_type": "markdown",
   "metadata": {},
   "source": [
    "as we can see we managed to significantly reduce the skewness of the data"
   ]
  },
  {
   "cell_type": "markdown",
   "metadata": {},
   "source": [
    "Customer clustering (K-means)\n",
    "- Normalize each engagement metric and run a k-means (k=3) to classify customers in three groups of engagement. \n"
   ]
  },
  {
   "cell_type": "code",
   "execution_count": 85,
   "metadata": {},
   "outputs": [
    {
     "data": {
      "text/html": [
       "<div>\n",
       "<style scoped>\n",
       "    .dataframe tbody tr th:only-of-type {\n",
       "        vertical-align: middle;\n",
       "    }\n",
       "\n",
       "    .dataframe tbody tr th {\n",
       "        vertical-align: top;\n",
       "    }\n",
       "\n",
       "    .dataframe thead th {\n",
       "        text-align: right;\n",
       "    }\n",
       "</style>\n",
       "<table border=\"1\" class=\"dataframe\">\n",
       "  <thead>\n",
       "    <tr style=\"text-align: right;\">\n",
       "      <th></th>\n",
       "      <th>session_traffic(bytes)</th>\n",
       "      <th>session_duration(ms)</th>\n",
       "      <th>session_freq</th>\n",
       "    </tr>\n",
       "  </thead>\n",
       "  <tbody>\n",
       "    <tr>\n",
       "      <th>0</th>\n",
       "      <td>0.999999</td>\n",
       "      <td>0.001400</td>\n",
       "      <td>4.308039e-09</td>\n",
       "    </tr>\n",
       "    <tr>\n",
       "      <th>1</th>\n",
       "      <td>1.000000</td>\n",
       "      <td>0.000133</td>\n",
       "      <td>1.138057e-09</td>\n",
       "    </tr>\n",
       "    <tr>\n",
       "      <th>2</th>\n",
       "      <td>0.999999</td>\n",
       "      <td>0.001155</td>\n",
       "      <td>6.375122e-09</td>\n",
       "    </tr>\n",
       "    <tr>\n",
       "      <th>3</th>\n",
       "      <td>1.000000</td>\n",
       "      <td>0.000226</td>\n",
       "      <td>1.677947e-09</td>\n",
       "    </tr>\n",
       "    <tr>\n",
       "      <th>4</th>\n",
       "      <td>1.000000</td>\n",
       "      <td>0.000118</td>\n",
       "      <td>2.367869e-09</td>\n",
       "    </tr>\n",
       "    <tr>\n",
       "      <th>...</th>\n",
       "      <td>...</td>\n",
       "      <td>...</td>\n",
       "      <td>...</td>\n",
       "    </tr>\n",
       "    <tr>\n",
       "      <th>106851</th>\n",
       "      <td>1.000000</td>\n",
       "      <td>0.000771</td>\n",
       "      <td>4.804848e-09</td>\n",
       "    </tr>\n",
       "    <tr>\n",
       "      <th>106852</th>\n",
       "      <td>1.000000</td>\n",
       "      <td>0.000192</td>\n",
       "      <td>1.826996e-09</td>\n",
       "    </tr>\n",
       "    <tr>\n",
       "      <th>106853</th>\n",
       "      <td>1.000000</td>\n",
       "      <td>0.000012</td>\n",
       "      <td>1.399303e-09</td>\n",
       "    </tr>\n",
       "    <tr>\n",
       "      <th>106854</th>\n",
       "      <td>1.000000</td>\n",
       "      <td>0.000294</td>\n",
       "      <td>2.082000e-09</td>\n",
       "    </tr>\n",
       "    <tr>\n",
       "      <th>106855</th>\n",
       "      <td>0.999997</td>\n",
       "      <td>0.002336</td>\n",
       "      <td>7.186282e-09</td>\n",
       "    </tr>\n",
       "  </tbody>\n",
       "</table>\n",
       "<p>106856 rows × 3 columns</p>\n",
       "</div>"
      ],
      "text/plain": [
       "        session_traffic(bytes)  session_duration(ms)  session_freq\n",
       "0                     0.999999              0.001400  4.308039e-09\n",
       "1                     1.000000              0.000133  1.138057e-09\n",
       "2                     0.999999              0.001155  6.375122e-09\n",
       "3                     1.000000              0.000226  1.677947e-09\n",
       "4                     1.000000              0.000118  2.367869e-09\n",
       "...                        ...                   ...           ...\n",
       "106851                1.000000              0.000771  4.804848e-09\n",
       "106852                1.000000              0.000192  1.826996e-09\n",
       "106853                1.000000              0.000012  1.399303e-09\n",
       "106854                1.000000              0.000294  2.082000e-09\n",
       "106855                0.999997              0.002336  7.186282e-09\n",
       "\n",
       "[106856 rows x 3 columns]"
      ]
     },
     "execution_count": 85,
     "metadata": {},
     "output_type": "execute_result"
    }
   ],
   "source": [
    "# normalize the data\n",
    "normalized_engagement_metric = cleaner.normalizer(cleaned_engagement_metric)\n",
    "normalized_engagement_metric"
   ]
  },
  {
   "cell_type": "code",
   "execution_count": 87,
   "metadata": {},
   "outputs": [],
   "source": [
    "kmeans= KMeans(\n",
    "    init=\"k-means++\",\n",
    "    n_clusters= 3,\n",
    "    n_init= 10,\n",
    "    max_iter= 300,\n",
    "    random_state=20  \n",
    ")"
   ]
  },
  {
   "cell_type": "code",
   "execution_count": 88,
   "metadata": {},
   "outputs": [],
   "source": [
    "model = kmeans.fit(normalized_engagement_metric)\n",
    "centroids = kmeans.cluster_centers_"
   ]
  },
  {
   "cell_type": "code",
   "execution_count": 90,
   "metadata": {},
   "outputs": [],
   "source": [
    "with open(\"../models/user_engamenet_metric_clustering_model.pkl\", \"wb\") as f:\n",
    "    pickle.dump(model, f)"
   ]
  }
 ],
 "metadata": {
  "kernelspec": {
   "display_name": "Python 3.10.5 64-bit",
   "language": "python",
   "name": "python3"
  },
  "language_info": {
   "codemirror_mode": {
    "name": "ipython",
    "version": 3
   },
   "file_extension": ".py",
   "mimetype": "text/x-python",
   "name": "python",
   "nbconvert_exporter": "python",
   "pygments_lexer": "ipython3",
   "version": "3.10.5"
  },
  "orig_nbformat": 4,
  "vscode": {
   "interpreter": {
    "hash": "b1991c03751bb1ed07063b349673f109e299af7bd2e157024b7d7177e34b5cc3"
   }
  }
 },
 "nbformat": 4,
 "nbformat_minor": 2
}
