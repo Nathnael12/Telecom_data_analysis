{
 "cells": [
  {
   "cell_type": "code",
   "execution_count": 1,
   "metadata": {},
   "outputs": [],
   "source": [
    "import sys\n",
    "import pandas as pd\n",
    "import seaborn as sns\n",
    "import matplotlib.pyplot as plt\n",
    "import numpy as np\n",
    "import pickle\n",
    "sys.path.append(\"../scripts\")\n",
    "from utils import Utils\n",
    "from clean_data import DataCleaner\n",
    "\n",
    "cleaner = DataCleaner()\n",
    "utility = Utils()"
   ]
  },
  {
   "cell_type": "code",
   "execution_count": 2,
   "metadata": {},
   "outputs": [],
   "source": [
    "cleaned_df=utility.load_data(\"../data/cleaned_data.csv\")\n",
    "# since our csv file doesn't have a meta data of columns dtype, we manually convert ['bearer_id', 'imsi', 'msisdn/number', 'imei','handset_type'] to string once again\n",
    "cleaned_df=cleaner.convert_to_string(cleaned_df)"
   ]
  },
  {
   "cell_type": "code",
   "execution_count": 3,
   "metadata": {},
   "outputs": [
    {
     "data": {
      "text/plain": [
       "Index(['bearer_id', 'start', 'start_ms', 'end', 'end_ms', 'dur._(ms)', 'imsi',\n",
       "       'msisdn', 'imei', 'last_location_name', 'avg_rtt_dl_(ms)',\n",
       "       'avg_rtt_ul_(ms)', 'avg_bearer_tp_dl_(kbps)', 'avg_bearer_tp_ul_(kbps)',\n",
       "       'tcp_dl_retrans._vol_(bytes)', 'tcp_ul_retrans._vol_(bytes)',\n",
       "       'dl_tp_<_50_kbps_(%)', '50_kbps_<_dl_tp_<_250_kbps_(%)',\n",
       "       '250_kbps_<_dl_tp_<_1_mbps_(%)', 'dl_tp_>_1_mbps_(%)',\n",
       "       'ul_tp_<_10_kbps_(%)', '10_kbps_<_ul_tp_<_50_kbps_(%)',\n",
       "       '50_kbps_<_ul_tp_<_300_kbps_(%)', 'ul_tp_>_300_kbps_(%)',\n",
       "       'http_dl_(bytes)', 'http_ul_(bytes)', 'activity_duration_dl_(ms)',\n",
       "       'activity_duration_ul_(ms)', 'dur._(ms).1', 'handset_manufacturer',\n",
       "       'handset_type', 'nb_of_sec_with_125000b_<_vol_dl',\n",
       "       'nb_of_sec_with_1250b_<_vol_ul_<_6250b',\n",
       "       'nb_of_sec_with_31250b_<_vol_dl_<_125000b',\n",
       "       'nb_of_sec_with_37500b_<_vol_ul',\n",
       "       'nb_of_sec_with_6250b_<_vol_dl_<_31250b',\n",
       "       'nb_of_sec_with_6250b_<_vol_ul_<_37500b',\n",
       "       'nb_of_sec_with_vol_dl_<_6250b', 'nb_of_sec_with_vol_ul_<_1250b',\n",
       "       'social_media_dl_(bytes)', 'social_media_ul_(bytes)',\n",
       "       'google_dl_(bytes)', 'google_ul_(bytes)', 'email_dl_(bytes)',\n",
       "       'email_ul_(bytes)', 'youtube_dl_(bytes)', 'youtube_ul_(bytes)',\n",
       "       'netflix_dl_(bytes)', 'netflix_ul_(bytes)', 'gaming_dl_(bytes)',\n",
       "       'gaming_ul_(bytes)', 'other_dl_(bytes)', 'other_ul_(bytes)',\n",
       "       'total_ul_(bytes)', 'total_dl_(bytes)'],\n",
       "      dtype='object')"
      ]
     },
     "execution_count": 3,
     "metadata": {},
     "output_type": "execute_result"
    }
   ],
   "source": [
    "cleaned_df.rename(columns={\"msisdn/number\":\"msisdn\"},inplace=True)\n",
    "cleaned_df.columns"
   ]
  },
  {
   "cell_type": "code",
   "execution_count": 4,
   "metadata": {},
   "outputs": [
    {
     "data": {
      "text/html": [
       "<div>\n",
       "<style scoped>\n",
       "    .dataframe tbody tr th:only-of-type {\n",
       "        vertical-align: middle;\n",
       "    }\n",
       "\n",
       "    .dataframe tbody tr th {\n",
       "        vertical-align: top;\n",
       "    }\n",
       "\n",
       "    .dataframe thead th {\n",
       "        text-align: right;\n",
       "    }\n",
       "</style>\n",
       "<table border=\"1\" class=\"dataframe\">\n",
       "  <thead>\n",
       "    <tr style=\"text-align: right;\">\n",
       "      <th></th>\n",
       "      <th>msisdn</th>\n",
       "      <th>handset_type</th>\n",
       "      <th>avg_rtt_dl_(ms)</th>\n",
       "      <th>avg_rtt_ul_(ms)</th>\n",
       "      <th>avg_bearer_tp_dl_(kbps)</th>\n",
       "      <th>avg_bearer_tp_ul_(kbps)</th>\n",
       "      <th>tcp_dl_retrans._vol_(bytes)</th>\n",
       "      <th>tcp_ul_retrans._vol_(bytes)</th>\n",
       "    </tr>\n",
       "  </thead>\n",
       "  <tbody>\n",
       "    <tr>\n",
       "      <th>0</th>\n",
       "      <td>33664962239.0</td>\n",
       "      <td>Samsung Galaxy A5 Sm-A520F</td>\n",
       "      <td>42.0</td>\n",
       "      <td>5.0</td>\n",
       "      <td>23.0</td>\n",
       "      <td>44.0</td>\n",
       "      <td>568730.0</td>\n",
       "      <td>20949.5</td>\n",
       "    </tr>\n",
       "    <tr>\n",
       "      <th>1</th>\n",
       "      <td>33681854413.0</td>\n",
       "      <td>Samsung Galaxy J5 (Sm-J530)</td>\n",
       "      <td>65.0</td>\n",
       "      <td>5.0</td>\n",
       "      <td>16.0</td>\n",
       "      <td>26.0</td>\n",
       "      <td>568730.0</td>\n",
       "      <td>20949.5</td>\n",
       "    </tr>\n",
       "    <tr>\n",
       "      <th>2</th>\n",
       "      <td>33760627129.0</td>\n",
       "      <td>Samsung Galaxy A8 (2018)</td>\n",
       "      <td>45.0</td>\n",
       "      <td>5.0</td>\n",
       "      <td>6.0</td>\n",
       "      <td>9.0</td>\n",
       "      <td>568730.0</td>\n",
       "      <td>20949.5</td>\n",
       "    </tr>\n",
       "    <tr>\n",
       "      <th>3</th>\n",
       "      <td>33750343200.0</td>\n",
       "      <td>undefined</td>\n",
       "      <td>45.0</td>\n",
       "      <td>5.0</td>\n",
       "      <td>44.0</td>\n",
       "      <td>44.0</td>\n",
       "      <td>568730.0</td>\n",
       "      <td>20949.5</td>\n",
       "    </tr>\n",
       "    <tr>\n",
       "      <th>4</th>\n",
       "      <td>33699795932.0</td>\n",
       "      <td>Samsung Sm-G390F</td>\n",
       "      <td>45.0</td>\n",
       "      <td>5.0</td>\n",
       "      <td>6.0</td>\n",
       "      <td>9.0</td>\n",
       "      <td>568730.0</td>\n",
       "      <td>20949.5</td>\n",
       "    </tr>\n",
       "  </tbody>\n",
       "</table>\n",
       "</div>"
      ],
      "text/plain": [
       "          msisdn                 handset_type  avg_rtt_dl_(ms)  \\\n",
       "0  33664962239.0   Samsung Galaxy A5 Sm-A520F             42.0   \n",
       "1  33681854413.0  Samsung Galaxy J5 (Sm-J530)             65.0   \n",
       "2  33760627129.0     Samsung Galaxy A8 (2018)             45.0   \n",
       "3  33750343200.0                    undefined             45.0   \n",
       "4  33699795932.0             Samsung Sm-G390F             45.0   \n",
       "\n",
       "   avg_rtt_ul_(ms)  avg_bearer_tp_dl_(kbps)  avg_bearer_tp_ul_(kbps)  \\\n",
       "0              5.0                     23.0                     44.0   \n",
       "1              5.0                     16.0                     26.0   \n",
       "2              5.0                      6.0                      9.0   \n",
       "3              5.0                     44.0                     44.0   \n",
       "4              5.0                      6.0                      9.0   \n",
       "\n",
       "   tcp_dl_retrans._vol_(bytes)  tcp_ul_retrans._vol_(bytes)  \n",
       "0                     568730.0                      20949.5  \n",
       "1                     568730.0                      20949.5  \n",
       "2                     568730.0                      20949.5  \n",
       "3                     568730.0                      20949.5  \n",
       "4                     568730.0                      20949.5  "
      ]
     },
     "execution_count": 4,
     "metadata": {},
     "output_type": "execute_result"
    }
   ],
   "source": [
    "user_experience_df = cleaned_df[['msisdn', 'handset_type','avg_rtt_dl_(ms)','avg_rtt_ul_(ms)','avg_bearer_tp_dl_(kbps)','avg_bearer_tp_ul_(kbps)','tcp_dl_retrans._vol_(bytes)','tcp_ul_retrans._vol_(bytes)']]\n",
    "user_experience_df.head()"
   ]
  },
  {
   "cell_type": "code",
   "execution_count": 5,
   "metadata": {},
   "outputs": [
    {
     "data": {
      "text/html": [
       "<div>\n",
       "<style scoped>\n",
       "    .dataframe tbody tr th:only-of-type {\n",
       "        vertical-align: middle;\n",
       "    }\n",
       "\n",
       "    .dataframe tbody tr th {\n",
       "        vertical-align: top;\n",
       "    }\n",
       "\n",
       "    .dataframe thead th {\n",
       "        text-align: right;\n",
       "    }\n",
       "</style>\n",
       "<table border=\"1\" class=\"dataframe\">\n",
       "  <thead>\n",
       "    <tr style=\"text-align: right;\">\n",
       "      <th></th>\n",
       "      <th>msisdn</th>\n",
       "      <th>handset_type</th>\n",
       "      <th>total_rtt(ms)</th>\n",
       "      <th>total_tp(kbps)</th>\n",
       "      <th>total_tcp(bytes)</th>\n",
       "    </tr>\n",
       "  </thead>\n",
       "  <tbody>\n",
       "    <tr>\n",
       "      <th>0</th>\n",
       "      <td>33664962239.0</td>\n",
       "      <td>Samsung Galaxy A5 Sm-A520F</td>\n",
       "      <td>47.0</td>\n",
       "      <td>67.0</td>\n",
       "      <td>589679.5</td>\n",
       "    </tr>\n",
       "    <tr>\n",
       "      <th>1</th>\n",
       "      <td>33681854413.0</td>\n",
       "      <td>Samsung Galaxy J5 (Sm-J530)</td>\n",
       "      <td>70.0</td>\n",
       "      <td>42.0</td>\n",
       "      <td>589679.5</td>\n",
       "    </tr>\n",
       "    <tr>\n",
       "      <th>2</th>\n",
       "      <td>33760627129.0</td>\n",
       "      <td>Samsung Galaxy A8 (2018)</td>\n",
       "      <td>50.0</td>\n",
       "      <td>15.0</td>\n",
       "      <td>589679.5</td>\n",
       "    </tr>\n",
       "    <tr>\n",
       "      <th>3</th>\n",
       "      <td>33750343200.0</td>\n",
       "      <td>undefined</td>\n",
       "      <td>50.0</td>\n",
       "      <td>88.0</td>\n",
       "      <td>589679.5</td>\n",
       "    </tr>\n",
       "    <tr>\n",
       "      <th>4</th>\n",
       "      <td>33699795932.0</td>\n",
       "      <td>Samsung Sm-G390F</td>\n",
       "      <td>50.0</td>\n",
       "      <td>15.0</td>\n",
       "      <td>589679.5</td>\n",
       "    </tr>\n",
       "  </tbody>\n",
       "</table>\n",
       "</div>"
      ],
      "text/plain": [
       "          msisdn                 handset_type  total_rtt(ms)  total_tp(kbps)  \\\n",
       "0  33664962239.0   Samsung Galaxy A5 Sm-A520F           47.0            67.0   \n",
       "1  33681854413.0  Samsung Galaxy J5 (Sm-J530)           70.0            42.0   \n",
       "2  33760627129.0     Samsung Galaxy A8 (2018)           50.0            15.0   \n",
       "3  33750343200.0                    undefined           50.0            88.0   \n",
       "4  33699795932.0             Samsung Sm-G390F           50.0            15.0   \n",
       "\n",
       "   total_tcp(bytes)  \n",
       "0          589679.5  \n",
       "1          589679.5  \n",
       "2          589679.5  \n",
       "3          589679.5  \n",
       "4          589679.5  "
      ]
     },
     "execution_count": 5,
     "metadata": {},
     "output_type": "execute_result"
    }
   ],
   "source": [
    "total_rtt=user_experience_df['avg_rtt_dl_(ms)']+user_experience_df['avg_rtt_ul_(ms)']\n",
    "total_tp=user_experience_df['avg_bearer_tp_dl_(kbps)']+user_experience_df['avg_bearer_tp_ul_(kbps)']\n",
    "total_tcp=user_experience_df['tcp_dl_retrans._vol_(bytes)']+user_experience_df['tcp_ul_retrans._vol_(bytes)']\n",
    "user_experience_total=pd.DataFrame({\"msisdn\":user_experience_df['msisdn'],\"handset_type\":user_experience_df['handset_type'],\"total_rtt(ms)\":total_rtt,\"total_tp(kbps)\":total_tp,\"total_tcp(bytes)\":total_tcp})\n",
    "user_experience_total\n",
    "user_experience_total.head()\n"
   ]
  },
  {
   "cell_type": "markdown",
   "metadata": {},
   "source": [
    "### Aggregate, per customer, the following information \n",
    "- Average TCP retransmission\n",
    "- Average RTT\n",
    "- Handset type\n",
    "- Average throughput\n"
   ]
  },
  {
   "cell_type": "code",
   "execution_count": 6,
   "metadata": {},
   "outputs": [
    {
     "data": {
      "text/html": [
       "<div>\n",
       "<style scoped>\n",
       "    .dataframe tbody tr th:only-of-type {\n",
       "        vertical-align: middle;\n",
       "    }\n",
       "\n",
       "    .dataframe tbody tr th {\n",
       "        vertical-align: top;\n",
       "    }\n",
       "\n",
       "    .dataframe thead th {\n",
       "        text-align: right;\n",
       "    }\n",
       "</style>\n",
       "<table border=\"1\" class=\"dataframe\">\n",
       "  <thead>\n",
       "    <tr style=\"text-align: right;\">\n",
       "      <th></th>\n",
       "      <th>avg_tcp(bytes)</th>\n",
       "    </tr>\n",
       "    <tr>\n",
       "      <th>msisdn</th>\n",
       "      <th></th>\n",
       "    </tr>\n",
       "  </thead>\n",
       "  <tbody>\n",
       "    <tr>\n",
       "      <th>3197020876596.0</th>\n",
       "      <td>5.896795e+05</td>\n",
       "    </tr>\n",
       "    <tr>\n",
       "      <th>33601001722.0</th>\n",
       "      <td>5.896795e+05</td>\n",
       "    </tr>\n",
       "    <tr>\n",
       "      <th>33601001754.0</th>\n",
       "      <td>5.896795e+05</td>\n",
       "    </tr>\n",
       "    <tr>\n",
       "      <th>33601002511.0</th>\n",
       "      <td>5.896795e+05</td>\n",
       "    </tr>\n",
       "    <tr>\n",
       "      <th>33601007832.0</th>\n",
       "      <td>2.201550e+04</td>\n",
       "    </tr>\n",
       "    <tr>\n",
       "      <th>...</th>\n",
       "      <td>...</td>\n",
       "    </tr>\n",
       "    <tr>\n",
       "      <th>33789980299.0</th>\n",
       "      <td>2.998878e+05</td>\n",
       "    </tr>\n",
       "    <tr>\n",
       "      <th>33789996170.0</th>\n",
       "      <td>2.180450e+05</td>\n",
       "    </tr>\n",
       "    <tr>\n",
       "      <th>33789997247.0</th>\n",
       "      <td>5.896795e+05</td>\n",
       "    </tr>\n",
       "    <tr>\n",
       "      <th>882397108489451.0</th>\n",
       "      <td>5.896795e+05</td>\n",
       "    </tr>\n",
       "    <tr>\n",
       "      <th>nan</th>\n",
       "      <td>1.002149e+07</td>\n",
       "    </tr>\n",
       "  </tbody>\n",
       "</table>\n",
       "<p>106857 rows × 1 columns</p>\n",
       "</div>"
      ],
      "text/plain": [
       "                   avg_tcp(bytes)\n",
       "msisdn                           \n",
       "3197020876596.0      5.896795e+05\n",
       "33601001722.0        5.896795e+05\n",
       "33601001754.0        5.896795e+05\n",
       "33601002511.0        5.896795e+05\n",
       "33601007832.0        2.201550e+04\n",
       "...                           ...\n",
       "33789980299.0        2.998878e+05\n",
       "33789996170.0        2.180450e+05\n",
       "33789997247.0        5.896795e+05\n",
       "882397108489451.0    5.896795e+05\n",
       "nan                  1.002149e+07\n",
       "\n",
       "[106857 rows x 1 columns]"
      ]
     },
     "execution_count": 6,
     "metadata": {},
     "output_type": "execute_result"
    }
   ],
   "source": [
    "customer_group=user_experience_total.groupby(['msisdn'])\n",
    "\n",
    "avg_tcp_retran=customer_group.agg({'total_tcp(bytes)':'mean'})\n",
    "avg_tcp_retran.rename(columns={'total_tcp(bytes)':'avg_tcp(bytes)'},inplace=True)\n",
    "avg_tcp_retran"
   ]
  },
  {
   "cell_type": "code",
   "execution_count": 7,
   "metadata": {},
   "outputs": [
    {
     "data": {
      "text/html": [
       "<div>\n",
       "<style scoped>\n",
       "    .dataframe tbody tr th:only-of-type {\n",
       "        vertical-align: middle;\n",
       "    }\n",
       "\n",
       "    .dataframe tbody tr th {\n",
       "        vertical-align: top;\n",
       "    }\n",
       "\n",
       "    .dataframe thead th {\n",
       "        text-align: right;\n",
       "    }\n",
       "</style>\n",
       "<table border=\"1\" class=\"dataframe\">\n",
       "  <thead>\n",
       "    <tr style=\"text-align: right;\">\n",
       "      <th></th>\n",
       "      <th>avg_rtt(ms)</th>\n",
       "    </tr>\n",
       "    <tr>\n",
       "      <th>msisdn</th>\n",
       "      <th></th>\n",
       "    </tr>\n",
       "  </thead>\n",
       "  <tbody>\n",
       "    <tr>\n",
       "      <th>3197020876596.0</th>\n",
       "      <td>50.000000</td>\n",
       "    </tr>\n",
       "    <tr>\n",
       "      <th>33601001722.0</th>\n",
       "      <td>46.000000</td>\n",
       "    </tr>\n",
       "    <tr>\n",
       "      <th>33601001754.0</th>\n",
       "      <td>31.000000</td>\n",
       "    </tr>\n",
       "    <tr>\n",
       "      <th>33601002511.0</th>\n",
       "      <td>50.000000</td>\n",
       "    </tr>\n",
       "    <tr>\n",
       "      <th>33601007832.0</th>\n",
       "      <td>84.000000</td>\n",
       "    </tr>\n",
       "    <tr>\n",
       "      <th>...</th>\n",
       "      <td>...</td>\n",
       "    </tr>\n",
       "    <tr>\n",
       "      <th>33789980299.0</th>\n",
       "      <td>59.500000</td>\n",
       "    </tr>\n",
       "    <tr>\n",
       "      <th>33789996170.0</th>\n",
       "      <td>52.000000</td>\n",
       "    </tr>\n",
       "    <tr>\n",
       "      <th>33789997247.0</th>\n",
       "      <td>40.000000</td>\n",
       "    </tr>\n",
       "    <tr>\n",
       "      <th>882397108489451.0</th>\n",
       "      <td>50.000000</td>\n",
       "    </tr>\n",
       "    <tr>\n",
       "      <th>nan</th>\n",
       "      <td>295.657598</td>\n",
       "    </tr>\n",
       "  </tbody>\n",
       "</table>\n",
       "<p>106857 rows × 1 columns</p>\n",
       "</div>"
      ],
      "text/plain": [
       "                   avg_rtt(ms)\n",
       "msisdn                        \n",
       "3197020876596.0      50.000000\n",
       "33601001722.0        46.000000\n",
       "33601001754.0        31.000000\n",
       "33601002511.0        50.000000\n",
       "33601007832.0        84.000000\n",
       "...                        ...\n",
       "33789980299.0        59.500000\n",
       "33789996170.0        52.000000\n",
       "33789997247.0        40.000000\n",
       "882397108489451.0    50.000000\n",
       "nan                 295.657598\n",
       "\n",
       "[106857 rows x 1 columns]"
      ]
     },
     "execution_count": 7,
     "metadata": {},
     "output_type": "execute_result"
    }
   ],
   "source": [
    "avg_rtt=customer_group.agg({'total_rtt(ms)':'mean'})\n",
    "avg_rtt.rename(columns={'total_rtt(ms)':'avg_rtt(ms)'},inplace=True)\n",
    "avg_rtt"
   ]
  },
  {
   "cell_type": "code",
   "execution_count": 8,
   "metadata": {},
   "outputs": [
    {
     "data": {
      "text/html": [
       "<div>\n",
       "<style scoped>\n",
       "    .dataframe tbody tr th:only-of-type {\n",
       "        vertical-align: middle;\n",
       "    }\n",
       "\n",
       "    .dataframe tbody tr th {\n",
       "        vertical-align: top;\n",
       "    }\n",
       "\n",
       "    .dataframe thead th {\n",
       "        text-align: right;\n",
       "    }\n",
       "</style>\n",
       "<table border=\"1\" class=\"dataframe\">\n",
       "  <thead>\n",
       "    <tr style=\"text-align: right;\">\n",
       "      <th></th>\n",
       "      <th>freq_handset_type</th>\n",
       "    </tr>\n",
       "    <tr>\n",
       "      <th>msisdn</th>\n",
       "      <th></th>\n",
       "    </tr>\n",
       "  </thead>\n",
       "  <tbody>\n",
       "    <tr>\n",
       "      <th>3197020876596.0</th>\n",
       "      <td>Quectel Wireless. Quectel Ec25-E</td>\n",
       "    </tr>\n",
       "    <tr>\n",
       "      <th>33601001722.0</th>\n",
       "      <td>Huawei P20 Lite Huawei Nova 3E</td>\n",
       "    </tr>\n",
       "    <tr>\n",
       "      <th>33601001754.0</th>\n",
       "      <td>Apple iPhone 7 (A1778)</td>\n",
       "    </tr>\n",
       "    <tr>\n",
       "      <th>33601002511.0</th>\n",
       "      <td>undefined</td>\n",
       "    </tr>\n",
       "    <tr>\n",
       "      <th>33601007832.0</th>\n",
       "      <td>Apple iPhone 5S (A1457)</td>\n",
       "    </tr>\n",
       "    <tr>\n",
       "      <th>...</th>\n",
       "      <td>...</td>\n",
       "    </tr>\n",
       "    <tr>\n",
       "      <th>33789980299.0</th>\n",
       "      <td>undefined</td>\n",
       "    </tr>\n",
       "    <tr>\n",
       "      <th>33789996170.0</th>\n",
       "      <td>Huawei Honor 9 Lite</td>\n",
       "    </tr>\n",
       "    <tr>\n",
       "      <th>33789997247.0</th>\n",
       "      <td>Apple iPhone 8 Plus (A1897)</td>\n",
       "    </tr>\n",
       "    <tr>\n",
       "      <th>882397108489451.0</th>\n",
       "      <td>Quectel Wireless. Quectel Ec21-E</td>\n",
       "    </tr>\n",
       "    <tr>\n",
       "      <th>nan</th>\n",
       "      <td>nan</td>\n",
       "    </tr>\n",
       "  </tbody>\n",
       "</table>\n",
       "<p>106857 rows × 1 columns</p>\n",
       "</div>"
      ],
      "text/plain": [
       "                                  freq_handset_type\n",
       "msisdn                                             \n",
       "3197020876596.0    Quectel Wireless. Quectel Ec25-E\n",
       "33601001722.0        Huawei P20 Lite Huawei Nova 3E\n",
       "33601001754.0                Apple iPhone 7 (A1778)\n",
       "33601002511.0                             undefined\n",
       "33601007832.0               Apple iPhone 5S (A1457)\n",
       "...                                             ...\n",
       "33789980299.0                             undefined\n",
       "33789996170.0                   Huawei Honor 9 Lite\n",
       "33789997247.0           Apple iPhone 8 Plus (A1897)\n",
       "882397108489451.0  Quectel Wireless. Quectel Ec21-E\n",
       "nan                                             nan\n",
       "\n",
       "[106857 rows x 1 columns]"
      ]
     },
     "execution_count": 8,
     "metadata": {},
     "output_type": "execute_result"
    }
   ],
   "source": [
    "freq_handset=customer_group.agg({'handset_type':pd.Series.mode})\n",
    "freq_handset.rename(columns={'handset_type':'freq_handset_type'},inplace=True)\n",
    "freq_handset"
   ]
  },
  {
   "cell_type": "code",
   "execution_count": 9,
   "metadata": {},
   "outputs": [
    {
     "data": {
      "text/html": [
       "<div>\n",
       "<style scoped>\n",
       "    .dataframe tbody tr th:only-of-type {\n",
       "        vertical-align: middle;\n",
       "    }\n",
       "\n",
       "    .dataframe tbody tr th {\n",
       "        vertical-align: top;\n",
       "    }\n",
       "\n",
       "    .dataframe thead th {\n",
       "        text-align: right;\n",
       "    }\n",
       "</style>\n",
       "<table border=\"1\" class=\"dataframe\">\n",
       "  <thead>\n",
       "    <tr style=\"text-align: right;\">\n",
       "      <th></th>\n",
       "      <th>avg_tp(kbps)</th>\n",
       "    </tr>\n",
       "    <tr>\n",
       "      <th>msisdn</th>\n",
       "      <th></th>\n",
       "    </tr>\n",
       "  </thead>\n",
       "  <tbody>\n",
       "    <tr>\n",
       "      <th>3197020876596.0</th>\n",
       "      <td>1.000000</td>\n",
       "    </tr>\n",
       "    <tr>\n",
       "      <th>33601001722.0</th>\n",
       "      <td>76.000000</td>\n",
       "    </tr>\n",
       "    <tr>\n",
       "      <th>33601001754.0</th>\n",
       "      <td>99.000000</td>\n",
       "    </tr>\n",
       "    <tr>\n",
       "      <th>33601002511.0</th>\n",
       "      <td>97.000000</td>\n",
       "    </tr>\n",
       "    <tr>\n",
       "      <th>33601007832.0</th>\n",
       "      <td>248.000000</td>\n",
       "    </tr>\n",
       "    <tr>\n",
       "      <th>...</th>\n",
       "      <td>...</td>\n",
       "    </tr>\n",
       "    <tr>\n",
       "      <th>33789980299.0</th>\n",
       "      <td>81539.500000</td>\n",
       "    </tr>\n",
       "    <tr>\n",
       "      <th>33789996170.0</th>\n",
       "      <td>10365.000000</td>\n",
       "    </tr>\n",
       "    <tr>\n",
       "      <th>33789997247.0</th>\n",
       "      <td>116.000000</td>\n",
       "    </tr>\n",
       "    <tr>\n",
       "      <th>882397108489451.0</th>\n",
       "      <td>2.000000</td>\n",
       "    </tr>\n",
       "    <tr>\n",
       "      <th>nan</th>\n",
       "      <td>16944.924015</td>\n",
       "    </tr>\n",
       "  </tbody>\n",
       "</table>\n",
       "<p>106857 rows × 1 columns</p>\n",
       "</div>"
      ],
      "text/plain": [
       "                   avg_tp(kbps)\n",
       "msisdn                         \n",
       "3197020876596.0        1.000000\n",
       "33601001722.0         76.000000\n",
       "33601001754.0         99.000000\n",
       "33601002511.0         97.000000\n",
       "33601007832.0        248.000000\n",
       "...                         ...\n",
       "33789980299.0      81539.500000\n",
       "33789996170.0      10365.000000\n",
       "33789997247.0        116.000000\n",
       "882397108489451.0      2.000000\n",
       "nan                16944.924015\n",
       "\n",
       "[106857 rows x 1 columns]"
      ]
     },
     "execution_count": 9,
     "metadata": {},
     "output_type": "execute_result"
    }
   ],
   "source": [
    "avg_tp=customer_group.agg({'total_tp(kbps)':'mean'})\n",
    "avg_tp.rename(columns={'total_tp(kbps)':'avg_tp(kbps)'},inplace=True)\n",
    "avg_tp"
   ]
  },
  {
   "cell_type": "code",
   "execution_count": 10,
   "metadata": {},
   "outputs": [
    {
     "data": {
      "text/html": [
       "<div>\n",
       "<style scoped>\n",
       "    .dataframe tbody tr th:only-of-type {\n",
       "        vertical-align: middle;\n",
       "    }\n",
       "\n",
       "    .dataframe tbody tr th {\n",
       "        vertical-align: top;\n",
       "    }\n",
       "\n",
       "    .dataframe thead th {\n",
       "        text-align: right;\n",
       "    }\n",
       "</style>\n",
       "<table border=\"1\" class=\"dataframe\">\n",
       "  <thead>\n",
       "    <tr style=\"text-align: right;\">\n",
       "      <th></th>\n",
       "      <th>avg_rtt(ms)</th>\n",
       "      <th>avg_tp(kbps)</th>\n",
       "      <th>avg_tcp(bytes)</th>\n",
       "    </tr>\n",
       "    <tr>\n",
       "      <th>msisdn</th>\n",
       "      <th></th>\n",
       "      <th></th>\n",
       "      <th></th>\n",
       "    </tr>\n",
       "  </thead>\n",
       "  <tbody>\n",
       "    <tr>\n",
       "      <th>3197020876596.0</th>\n",
       "      <td>50.000000</td>\n",
       "      <td>1.000000</td>\n",
       "      <td>5.896795e+05</td>\n",
       "    </tr>\n",
       "    <tr>\n",
       "      <th>33601001722.0</th>\n",
       "      <td>46.000000</td>\n",
       "      <td>76.000000</td>\n",
       "      <td>5.896795e+05</td>\n",
       "    </tr>\n",
       "    <tr>\n",
       "      <th>33601001754.0</th>\n",
       "      <td>31.000000</td>\n",
       "      <td>99.000000</td>\n",
       "      <td>5.896795e+05</td>\n",
       "    </tr>\n",
       "    <tr>\n",
       "      <th>33601002511.0</th>\n",
       "      <td>50.000000</td>\n",
       "      <td>97.000000</td>\n",
       "      <td>5.896795e+05</td>\n",
       "    </tr>\n",
       "    <tr>\n",
       "      <th>33601007832.0</th>\n",
       "      <td>84.000000</td>\n",
       "      <td>248.000000</td>\n",
       "      <td>2.201550e+04</td>\n",
       "    </tr>\n",
       "    <tr>\n",
       "      <th>...</th>\n",
       "      <td>...</td>\n",
       "      <td>...</td>\n",
       "      <td>...</td>\n",
       "    </tr>\n",
       "    <tr>\n",
       "      <th>33789980299.0</th>\n",
       "      <td>59.500000</td>\n",
       "      <td>81539.500000</td>\n",
       "      <td>2.998878e+05</td>\n",
       "    </tr>\n",
       "    <tr>\n",
       "      <th>33789996170.0</th>\n",
       "      <td>52.000000</td>\n",
       "      <td>10365.000000</td>\n",
       "      <td>2.180450e+05</td>\n",
       "    </tr>\n",
       "    <tr>\n",
       "      <th>33789997247.0</th>\n",
       "      <td>40.000000</td>\n",
       "      <td>116.000000</td>\n",
       "      <td>5.896795e+05</td>\n",
       "    </tr>\n",
       "    <tr>\n",
       "      <th>882397108489451.0</th>\n",
       "      <td>50.000000</td>\n",
       "      <td>2.000000</td>\n",
       "      <td>5.896795e+05</td>\n",
       "    </tr>\n",
       "    <tr>\n",
       "      <th>nan</th>\n",
       "      <td>295.657598</td>\n",
       "      <td>16944.924015</td>\n",
       "      <td>1.002149e+07</td>\n",
       "    </tr>\n",
       "  </tbody>\n",
       "</table>\n",
       "<p>106857 rows × 3 columns</p>\n",
       "</div>"
      ],
      "text/plain": [
       "                   avg_rtt(ms)  avg_tp(kbps)  avg_tcp(bytes)\n",
       "msisdn                                                      \n",
       "3197020876596.0      50.000000      1.000000    5.896795e+05\n",
       "33601001722.0        46.000000     76.000000    5.896795e+05\n",
       "33601001754.0        31.000000     99.000000    5.896795e+05\n",
       "33601002511.0        50.000000     97.000000    5.896795e+05\n",
       "33601007832.0        84.000000    248.000000    2.201550e+04\n",
       "...                        ...           ...             ...\n",
       "33789980299.0        59.500000  81539.500000    2.998878e+05\n",
       "33789996170.0        52.000000  10365.000000    2.180450e+05\n",
       "33789997247.0        40.000000    116.000000    5.896795e+05\n",
       "882397108489451.0    50.000000      2.000000    5.896795e+05\n",
       "nan                 295.657598  16944.924015    1.002149e+07\n",
       "\n",
       "[106857 rows x 3 columns]"
      ]
     },
     "execution_count": 10,
     "metadata": {},
     "output_type": "execute_result"
    }
   ],
   "source": [
    "# experience_by_customer=pd.DataFrame({\n",
    "#     \"avg_rtt_(ms)\":avg_rtt,\n",
    "#     \"avg_tp(kbps)\":avg_tp,\n",
    "#     \"avg_tcp_(bytes)\":avg_tcp_retran\n",
    "# },index=avg_rtt.index)\n",
    "experience_by_customer=avg_rtt.copy()\n",
    "experience_by_customer[\"avg_tp(kbps)\"]=avg_tp\n",
    "experience_by_customer[\"avg_tcp(bytes)\"]=avg_tcp_retran\n",
    "experience_by_customer"
   ]
  },
  {
   "cell_type": "code",
   "execution_count": 11,
   "metadata": {},
   "outputs": [
    {
     "data": {
      "image/png": "[encoded data removed]",
      "text/plain": [
       "<Figure size 864x504 with 1 Axes>"
      ]
     },
     "metadata": {
      "needs_background": "light"
     },
     "output_type": "display_data"
    }
   ],
   "source": [
    "utility.plot_box(df=experience_by_customer,x_col=\"avg_rtt(ms)\",title=\"distribution of avg_rtt(ms)\")"
   ]
  },
  {
   "cell_type": "code",
   "execution_count": 12,
   "metadata": {},
   "outputs": [
    {
     "data": {
      "image/png": "[encoded data removed]",
      "text/plain": [
       "<Figure size 864x504 with 1 Axes>"
      ]
     },
     "metadata": {
      "needs_background": "light"
     },
     "output_type": "display_data"
    }
   ],
   "source": [
    "\n",
    "utility.plot_box(df=experience_by_customer,x_col=\"avg_tp(kbps)\",title=\"distribution of avg_tp(kbps)\")\n"
   ]
  },
  {
   "cell_type": "code",
   "execution_count": 13,
   "metadata": {},
   "outputs": [
    {
     "data": {
      "image/png": "[encoded data removed]",
      "text/plain": [
       "<Figure size 864x504 with 1 Axes>"
      ]
     },
     "metadata": {
      "needs_background": "light"
     },
     "output_type": "display_data"
    }
   ],
   "source": [
    "utility.plot_box(df=experience_by_customer,x_col=\"avg_tcp(bytes)\",title=\"distribution of avg_tcp(bytes)\")\n"
   ]
  },
  {
   "cell_type": "code",
   "execution_count": 14,
   "metadata": {},
   "outputs": [
    {
     "data": {
      "text/html": [
       "<div>\n",
       "<style scoped>\n",
       "    .dataframe tbody tr th:only-of-type {\n",
       "        vertical-align: middle;\n",
       "    }\n",
       "\n",
       "    .dataframe tbody tr th {\n",
       "        vertical-align: top;\n",
       "    }\n",
       "\n",
       "    .dataframe thead th {\n",
       "        text-align: right;\n",
       "    }\n",
       "</style>\n",
       "<table border=\"1\" class=\"dataframe\">\n",
       "  <thead>\n",
       "    <tr style=\"text-align: right;\">\n",
       "      <th></th>\n",
       "      <th>avg_rtt(ms)</th>\n",
       "      <th>avg_tp(kbps)</th>\n",
       "      <th>avg_tcp(bytes)</th>\n",
       "    </tr>\n",
       "    <tr>\n",
       "      <th>msisdn</th>\n",
       "      <th></th>\n",
       "      <th></th>\n",
       "      <th></th>\n",
       "    </tr>\n",
       "  </thead>\n",
       "  <tbody>\n",
       "    <tr>\n",
       "      <th>3197020876596.0</th>\n",
       "      <td>50.0</td>\n",
       "      <td>1.0</td>\n",
       "      <td>589679.50</td>\n",
       "    </tr>\n",
       "    <tr>\n",
       "      <th>33601001722.0</th>\n",
       "      <td>46.0</td>\n",
       "      <td>76.0</td>\n",
       "      <td>589679.50</td>\n",
       "    </tr>\n",
       "    <tr>\n",
       "      <th>33601001754.0</th>\n",
       "      <td>31.0</td>\n",
       "      <td>99.0</td>\n",
       "      <td>589679.50</td>\n",
       "    </tr>\n",
       "    <tr>\n",
       "      <th>33601002511.0</th>\n",
       "      <td>50.0</td>\n",
       "      <td>97.0</td>\n",
       "      <td>589679.50</td>\n",
       "    </tr>\n",
       "    <tr>\n",
       "      <th>33601007832.0</th>\n",
       "      <td>84.0</td>\n",
       "      <td>248.0</td>\n",
       "      <td>556100.75</td>\n",
       "    </tr>\n",
       "  </tbody>\n",
       "</table>\n",
       "</div>"
      ],
      "text/plain": [
       "                 avg_rtt(ms)  avg_tp(kbps)  avg_tcp(bytes)\n",
       "msisdn                                                    \n",
       "3197020876596.0         50.0           1.0       589679.50\n",
       "33601001722.0           46.0          76.0       589679.50\n",
       "33601001754.0           31.0          99.0       589679.50\n",
       "33601002511.0           50.0          97.0       589679.50\n",
       "33601007832.0           84.0         248.0       556100.75"
      ]
     },
     "execution_count": 14,
     "metadata": {},
     "output_type": "execute_result"
    }
   ],
   "source": [
    "experience_by_customer = cleaner.handle_outliers(experience_by_customer, 'avg_rtt(ms)', 'mean')\n",
    "experience_by_customer = cleaner.handle_outliers(experience_by_customer, 'avg_tp(kbps)', 'mean')\n",
    "experience_by_customer = cleaner.handle_outliers(experience_by_customer, 'avg_tcp(bytes)', 'mean')\n",
    "\n",
    "experience_by_customer.head()"
   ]
  },
  {
   "cell_type": "code",
   "execution_count": 15,
   "metadata": {},
   "outputs": [
    {
     "data": {
      "image/png": "[encoded data removed]",
      "text/plain": [
       "<Figure size 864x504 with 1 Axes>"
      ]
     },
     "metadata": {
      "needs_background": "light"
     },
     "output_type": "display_data"
    }
   ],
   "source": [
    "utility.plot_box(df=experience_by_customer,x_col=\"avg_rtt(ms)\",title=\"distribution of avg_rtt(ms)\")\n"
   ]
  },
  {
   "cell_type": "code",
   "execution_count": 16,
   "metadata": {},
   "outputs": [
    {
     "data": {
      "image/png": "[encoded data removed]",
      "text/plain": [
       "<Figure size 864x504 with 1 Axes>"
      ]
     },
     "metadata": {
      "needs_background": "light"
     },
     "output_type": "display_data"
    }
   ],
   "source": [
    "utility.plot_box(df=experience_by_customer,x_col=\"avg_tp(kbps)\",title=\"distribution of avg_tp(kbps)\")\n"
   ]
  },
  {
   "cell_type": "code",
   "execution_count": 17,
   "metadata": {},
   "outputs": [
    {
     "data": {
      "image/png": "[encoded data removed]",
      "text/plain": [
       "<Figure size 864x504 with 1 Axes>"
      ]
     },
     "metadata": {
      "needs_background": "light"
     },
     "output_type": "display_data"
    }
   ],
   "source": [
    "utility.plot_box(df=experience_by_customer,x_col=\"avg_tcp(bytes)\",title=\"distribution of avg_tcp(bytes)\")\n"
   ]
  },
  {
   "cell_type": "markdown",
   "metadata": {},
   "source": [
    "### Top 10 TCP, RTT, TP values"
   ]
  },
  {
   "cell_type": "code",
   "execution_count": 18,
   "metadata": {},
   "outputs": [
    {
     "name": "stdout",
     "output_type": "stream",
     "text": [
      "Top 10 TCP\n"
     ]
    },
    {
     "data": {
      "text/html": [
       "<div>\n",
       "<style scoped>\n",
       "    .dataframe tbody tr th:only-of-type {\n",
       "        vertical-align: middle;\n",
       "    }\n",
       "\n",
       "    .dataframe tbody tr th {\n",
       "        vertical-align: top;\n",
       "    }\n",
       "\n",
       "    .dataframe thead th {\n",
       "        text-align: right;\n",
       "    }\n",
       "</style>\n",
       "<table border=\"1\" class=\"dataframe\">\n",
       "  <thead>\n",
       "    <tr style=\"text-align: right;\">\n",
       "      <th></th>\n",
       "      <th>avg_tcp(bytes)</th>\n",
       "    </tr>\n",
       "    <tr>\n",
       "      <th>msisdn</th>\n",
       "      <th></th>\n",
       "    </tr>\n",
       "  </thead>\n",
       "  <tbody>\n",
       "    <tr>\n",
       "      <th>33698575965.0</th>\n",
       "      <td>4.301477e+09</td>\n",
       "    </tr>\n",
       "    <tr>\n",
       "      <th>33658706088.0</th>\n",
       "      <td>4.288121e+09</td>\n",
       "    </tr>\n",
       "    <tr>\n",
       "      <th>33664907178.0</th>\n",
       "      <td>4.268647e+09</td>\n",
       "    </tr>\n",
       "    <tr>\n",
       "      <th>33658633234.0</th>\n",
       "      <td>4.254660e+09</td>\n",
       "    </tr>\n",
       "    <tr>\n",
       "      <th>33666125485.0</th>\n",
       "      <td>4.211258e+09</td>\n",
       "    </tr>\n",
       "    <tr>\n",
       "      <th>33668768421.0</th>\n",
       "      <td>4.166595e+09</td>\n",
       "    </tr>\n",
       "    <tr>\n",
       "      <th>33661305358.0</th>\n",
       "      <td>4.137938e+09</td>\n",
       "    </tr>\n",
       "    <tr>\n",
       "      <th>33662396708.0</th>\n",
       "      <td>4.117805e+09</td>\n",
       "    </tr>\n",
       "    <tr>\n",
       "      <th>33666824231.0</th>\n",
       "      <td>3.968121e+09</td>\n",
       "    </tr>\n",
       "    <tr>\n",
       "      <th>33762643398.0</th>\n",
       "      <td>3.786871e+09</td>\n",
       "    </tr>\n",
       "  </tbody>\n",
       "</table>\n",
       "</div>"
      ],
      "text/plain": [
       "               avg_tcp(bytes)\n",
       "msisdn                       \n",
       "33698575965.0    4.301477e+09\n",
       "33658706088.0    4.288121e+09\n",
       "33664907178.0    4.268647e+09\n",
       "33658633234.0    4.254660e+09\n",
       "33666125485.0    4.211258e+09\n",
       "33668768421.0    4.166595e+09\n",
       "33661305358.0    4.137938e+09\n",
       "33662396708.0    4.117805e+09\n",
       "33666824231.0    3.968121e+09\n",
       "33762643398.0    3.786871e+09"
      ]
     },
     "metadata": {},
     "output_type": "display_data"
    },
    {
     "name": "stdout",
     "output_type": "stream",
     "text": [
      "Top 10 RTT\n"
     ]
    },
    {
     "data": {
      "text/html": [
       "<div>\n",
       "<style scoped>\n",
       "    .dataframe tbody tr th:only-of-type {\n",
       "        vertical-align: middle;\n",
       "    }\n",
       "\n",
       "    .dataframe tbody tr th {\n",
       "        vertical-align: top;\n",
       "    }\n",
       "\n",
       "    .dataframe thead th {\n",
       "        text-align: right;\n",
       "    }\n",
       "</style>\n",
       "<table border=\"1\" class=\"dataframe\">\n",
       "  <thead>\n",
       "    <tr style=\"text-align: right;\">\n",
       "      <th></th>\n",
       "      <th>avg_rtt(ms)</th>\n",
       "    </tr>\n",
       "    <tr>\n",
       "      <th>msisdn</th>\n",
       "      <th></th>\n",
       "    </tr>\n",
       "  </thead>\n",
       "  <tbody>\n",
       "    <tr>\n",
       "      <th>33662317023.0</th>\n",
       "      <td>96924.0</td>\n",
       "    </tr>\n",
       "    <tr>\n",
       "      <th>33683692867.0</th>\n",
       "      <td>54848.0</td>\n",
       "    </tr>\n",
       "    <tr>\n",
       "      <th>33660874265.0</th>\n",
       "      <td>32335.0</td>\n",
       "    </tr>\n",
       "    <tr>\n",
       "      <th>33760941100.0</th>\n",
       "      <td>27278.0</td>\n",
       "    </tr>\n",
       "    <tr>\n",
       "      <th>33606788933.0</th>\n",
       "      <td>26300.0</td>\n",
       "    </tr>\n",
       "    <tr>\n",
       "      <th>33671816754.0</th>\n",
       "      <td>25715.0</td>\n",
       "    </tr>\n",
       "    <tr>\n",
       "      <th>33781865588.0</th>\n",
       "      <td>25388.0</td>\n",
       "    </tr>\n",
       "    <tr>\n",
       "      <th>33784013667.0</th>\n",
       "      <td>24738.0</td>\n",
       "    </tr>\n",
       "    <tr>\n",
       "      <th>33698551167.0</th>\n",
       "      <td>23010.5</td>\n",
       "    </tr>\n",
       "    <tr>\n",
       "      <th>33629634832.0</th>\n",
       "      <td>20980.0</td>\n",
       "    </tr>\n",
       "  </tbody>\n",
       "</table>\n",
       "</div>"
      ],
      "text/plain": [
       "               avg_rtt(ms)\n",
       "msisdn                    \n",
       "33662317023.0      96924.0\n",
       "33683692867.0      54848.0\n",
       "33660874265.0      32335.0\n",
       "33760941100.0      27278.0\n",
       "33606788933.0      26300.0\n",
       "33671816754.0      25715.0\n",
       "33781865588.0      25388.0\n",
       "33784013667.0      24738.0\n",
       "33698551167.0      23010.5\n",
       "33629634832.0      20980.0"
      ]
     },
     "metadata": {},
     "output_type": "display_data"
    },
    {
     "name": "stdout",
     "output_type": "stream",
     "text": [
      "Top 10 TP\n"
     ]
    },
    {
     "data": {
      "text/html": [
       "<div>\n",
       "<style scoped>\n",
       "    .dataframe tbody tr th:only-of-type {\n",
       "        vertical-align: middle;\n",
       "    }\n",
       "\n",
       "    .dataframe tbody tr th {\n",
       "        vertical-align: top;\n",
       "    }\n",
       "\n",
       "    .dataframe thead th {\n",
       "        text-align: right;\n",
       "    }\n",
       "</style>\n",
       "<table border=\"1\" class=\"dataframe\">\n",
       "  <thead>\n",
       "    <tr style=\"text-align: right;\">\n",
       "      <th></th>\n",
       "      <th>avg_tp(kbps)</th>\n",
       "    </tr>\n",
       "    <tr>\n",
       "      <th>msisdn</th>\n",
       "      <th></th>\n",
       "    </tr>\n",
       "  </thead>\n",
       "  <tbody>\n",
       "    <tr>\n",
       "      <th>33659907570.0</th>\n",
       "      <td>283931.0</td>\n",
       "    </tr>\n",
       "    <tr>\n",
       "      <th>33662681056.0</th>\n",
       "      <td>265724.0</td>\n",
       "    </tr>\n",
       "    <tr>\n",
       "      <th>33665658364.0</th>\n",
       "      <td>265176.5</td>\n",
       "    </tr>\n",
       "    <tr>\n",
       "      <th>33663487108.0</th>\n",
       "      <td>254950.0</td>\n",
       "    </tr>\n",
       "    <tr>\n",
       "      <th>33627953865.0</th>\n",
       "      <td>238982.0</td>\n",
       "    </tr>\n",
       "    <tr>\n",
       "      <th>33621176428.0</th>\n",
       "      <td>235365.0</td>\n",
       "    </tr>\n",
       "    <tr>\n",
       "      <th>33782399167.0</th>\n",
       "      <td>230982.0</td>\n",
       "    </tr>\n",
       "    <tr>\n",
       "      <th>33651479599.0</th>\n",
       "      <td>228303.0</td>\n",
       "    </tr>\n",
       "    <tr>\n",
       "      <th>33760327549.0</th>\n",
       "      <td>227334.0</td>\n",
       "    </tr>\n",
       "    <tr>\n",
       "      <th>33762670789.0</th>\n",
       "      <td>226505.0</td>\n",
       "    </tr>\n",
       "  </tbody>\n",
       "</table>\n",
       "</div>"
      ],
      "text/plain": [
       "               avg_tp(kbps)\n",
       "msisdn                     \n",
       "33659907570.0      283931.0\n",
       "33662681056.0      265724.0\n",
       "33665658364.0      265176.5\n",
       "33663487108.0      254950.0\n",
       "33627953865.0      238982.0\n",
       "33621176428.0      235365.0\n",
       "33782399167.0      230982.0\n",
       "33651479599.0      228303.0\n",
       "33760327549.0      227334.0\n",
       "33762670789.0      226505.0"
      ]
     },
     "metadata": {},
     "output_type": "display_data"
    }
   ],
   "source": [
    "print(\"Top 10 TCP\")\n",
    "display(avg_tcp_retran.sort_values(by=[\"avg_tcp(bytes)\"],ascending=False).head(10))\n",
    "\n",
    "print(\"Top 10 RTT\")\n",
    "display(avg_rtt.sort_values(by=[\"avg_rtt(ms)\"],ascending=False).head(10))\n",
    "\n",
    "print(\"Top 10 TP\")\n",
    "display(avg_tp.sort_values(by=[\"avg_tp(kbps)\"],ascending=False).head(10))"
   ]
  },
  {
   "cell_type": "markdown",
   "metadata": {},
   "source": [
    "### Bottom 10 TCP, RTT, TP values"
   ]
  },
  {
   "cell_type": "code",
   "execution_count": 19,
   "metadata": {},
   "outputs": [
    {
     "name": "stdout",
     "output_type": "stream",
     "text": [
      "Bottom 10 TCP\n"
     ]
    },
    {
     "data": {
      "text/html": [
       "<div>\n",
       "<style scoped>\n",
       "    .dataframe tbody tr th:only-of-type {\n",
       "        vertical-align: middle;\n",
       "    }\n",
       "\n",
       "    .dataframe tbody tr th {\n",
       "        vertical-align: top;\n",
       "    }\n",
       "\n",
       "    .dataframe thead th {\n",
       "        text-align: right;\n",
       "    }\n",
       "</style>\n",
       "<table border=\"1\" class=\"dataframe\">\n",
       "  <thead>\n",
       "    <tr style=\"text-align: right;\">\n",
       "      <th></th>\n",
       "      <th>avg_tcp(bytes)</th>\n",
       "    </tr>\n",
       "    <tr>\n",
       "      <th>msisdn</th>\n",
       "      <th></th>\n",
       "    </tr>\n",
       "  </thead>\n",
       "  <tbody>\n",
       "    <tr>\n",
       "      <th>33699694715.0</th>\n",
       "      <td>182.0</td>\n",
       "    </tr>\n",
       "    <tr>\n",
       "      <th>33679366089.0</th>\n",
       "      <td>179.0</td>\n",
       "    </tr>\n",
       "    <tr>\n",
       "      <th>33784203839.0</th>\n",
       "      <td>177.0</td>\n",
       "    </tr>\n",
       "    <tr>\n",
       "      <th>33769636458.0</th>\n",
       "      <td>176.0</td>\n",
       "    </tr>\n",
       "    <tr>\n",
       "      <th>33650681239.0</th>\n",
       "      <td>176.0</td>\n",
       "    </tr>\n",
       "    <tr>\n",
       "      <th>33607833304.0</th>\n",
       "      <td>143.0</td>\n",
       "    </tr>\n",
       "    <tr>\n",
       "      <th>33626357513.0</th>\n",
       "      <td>134.0</td>\n",
       "    </tr>\n",
       "    <tr>\n",
       "      <th>33762062356.0</th>\n",
       "      <td>129.0</td>\n",
       "    </tr>\n",
       "    <tr>\n",
       "      <th>33614777138.0</th>\n",
       "      <td>128.0</td>\n",
       "    </tr>\n",
       "    <tr>\n",
       "      <th>33650128412.0</th>\n",
       "      <td>97.0</td>\n",
       "    </tr>\n",
       "  </tbody>\n",
       "</table>\n",
       "</div>"
      ],
      "text/plain": [
       "               avg_tcp(bytes)\n",
       "msisdn                       \n",
       "33699694715.0           182.0\n",
       "33679366089.0           179.0\n",
       "33784203839.0           177.0\n",
       "33769636458.0           176.0\n",
       "33650681239.0           176.0\n",
       "33607833304.0           143.0\n",
       "33626357513.0           134.0\n",
       "33762062356.0           129.0\n",
       "33614777138.0           128.0\n",
       "33650128412.0            97.0"
      ]
     },
     "metadata": {},
     "output_type": "display_data"
    },
    {
     "name": "stdout",
     "output_type": "stream",
     "text": [
      "Bottom 10 RTT\n"
     ]
    },
    {
     "data": {
      "text/html": [
       "<div>\n",
       "<style scoped>\n",
       "    .dataframe tbody tr th:only-of-type {\n",
       "        vertical-align: middle;\n",
       "    }\n",
       "\n",
       "    .dataframe tbody tr th {\n",
       "        vertical-align: top;\n",
       "    }\n",
       "\n",
       "    .dataframe thead th {\n",
       "        text-align: right;\n",
       "    }\n",
       "</style>\n",
       "<table border=\"1\" class=\"dataframe\">\n",
       "  <thead>\n",
       "    <tr style=\"text-align: right;\">\n",
       "      <th></th>\n",
       "      <th>avg_rtt(ms)</th>\n",
       "    </tr>\n",
       "    <tr>\n",
       "      <th>msisdn</th>\n",
       "      <th></th>\n",
       "    </tr>\n",
       "  </thead>\n",
       "  <tbody>\n",
       "    <tr>\n",
       "      <th>33634684770.0</th>\n",
       "      <td>10.0</td>\n",
       "    </tr>\n",
       "    <tr>\n",
       "      <th>33672196893.0</th>\n",
       "      <td>9.0</td>\n",
       "    </tr>\n",
       "    <tr>\n",
       "      <th>33610846366.0</th>\n",
       "      <td>9.0</td>\n",
       "    </tr>\n",
       "    <tr>\n",
       "      <th>33647679481.0</th>\n",
       "      <td>8.0</td>\n",
       "    </tr>\n",
       "    <tr>\n",
       "      <th>33668619895.0</th>\n",
       "      <td>6.0</td>\n",
       "    </tr>\n",
       "    <tr>\n",
       "      <th>33659493541.0</th>\n",
       "      <td>5.0</td>\n",
       "    </tr>\n",
       "    <tr>\n",
       "      <th>33695045499.0</th>\n",
       "      <td>4.0</td>\n",
       "    </tr>\n",
       "    <tr>\n",
       "      <th>33660204450.0</th>\n",
       "      <td>2.0</td>\n",
       "    </tr>\n",
       "    <tr>\n",
       "      <th>33661575382.0</th>\n",
       "      <td>0.0</td>\n",
       "    </tr>\n",
       "    <tr>\n",
       "      <th>33652982188.0</th>\n",
       "      <td>0.0</td>\n",
       "    </tr>\n",
       "  </tbody>\n",
       "</table>\n",
       "</div>"
      ],
      "text/plain": [
       "               avg_rtt(ms)\n",
       "msisdn                    \n",
       "33634684770.0         10.0\n",
       "33672196893.0          9.0\n",
       "33610846366.0          9.0\n",
       "33647679481.0          8.0\n",
       "33668619895.0          6.0\n",
       "33659493541.0          5.0\n",
       "33695045499.0          4.0\n",
       "33660204450.0          2.0\n",
       "33661575382.0          0.0\n",
       "33652982188.0          0.0"
      ]
     },
     "metadata": {},
     "output_type": "display_data"
    },
    {
     "name": "stdout",
     "output_type": "stream",
     "text": [
      "Bottom 10 TP\n"
     ]
    },
    {
     "data": {
      "text/html": [
       "<div>\n",
       "<style scoped>\n",
       "    .dataframe tbody tr th:only-of-type {\n",
       "        vertical-align: middle;\n",
       "    }\n",
       "\n",
       "    .dataframe tbody tr th {\n",
       "        vertical-align: top;\n",
       "    }\n",
       "\n",
       "    .dataframe thead th {\n",
       "        text-align: right;\n",
       "    }\n",
       "</style>\n",
       "<table border=\"1\" class=\"dataframe\">\n",
       "  <thead>\n",
       "    <tr style=\"text-align: right;\">\n",
       "      <th></th>\n",
       "      <th>avg_tp(kbps)</th>\n",
       "    </tr>\n",
       "    <tr>\n",
       "      <th>msisdn</th>\n",
       "      <th></th>\n",
       "    </tr>\n",
       "  </thead>\n",
       "  <tbody>\n",
       "    <tr>\n",
       "      <th>33666206832.0</th>\n",
       "      <td>0.0</td>\n",
       "    </tr>\n",
       "    <tr>\n",
       "      <th>33660916790.0</th>\n",
       "      <td>0.0</td>\n",
       "    </tr>\n",
       "    <tr>\n",
       "      <th>33698591046.0</th>\n",
       "      <td>0.0</td>\n",
       "    </tr>\n",
       "    <tr>\n",
       "      <th>33659471143.0</th>\n",
       "      <td>0.0</td>\n",
       "    </tr>\n",
       "    <tr>\n",
       "      <th>33621664002.0</th>\n",
       "      <td>0.0</td>\n",
       "    </tr>\n",
       "    <tr>\n",
       "      <th>33777464744.0</th>\n",
       "      <td>0.0</td>\n",
       "    </tr>\n",
       "    <tr>\n",
       "      <th>33619834498.0</th>\n",
       "      <td>0.0</td>\n",
       "    </tr>\n",
       "    <tr>\n",
       "      <th>33650000334.0</th>\n",
       "      <td>0.0</td>\n",
       "    </tr>\n",
       "    <tr>\n",
       "      <th>33660339983.0</th>\n",
       "      <td>0.0</td>\n",
       "    </tr>\n",
       "    <tr>\n",
       "      <th>33651845120.0</th>\n",
       "      <td>0.0</td>\n",
       "    </tr>\n",
       "  </tbody>\n",
       "</table>\n",
       "</div>"
      ],
      "text/plain": [
       "               avg_tp(kbps)\n",
       "msisdn                     \n",
       "33666206832.0           0.0\n",
       "33660916790.0           0.0\n",
       "33698591046.0           0.0\n",
       "33659471143.0           0.0\n",
       "33621664002.0           0.0\n",
       "33777464744.0           0.0\n",
       "33619834498.0           0.0\n",
       "33650000334.0           0.0\n",
       "33660339983.0           0.0\n",
       "33651845120.0           0.0"
      ]
     },
     "metadata": {},
     "output_type": "display_data"
    }
   ],
   "source": [
    "print(\"Bottom 10 TCP\")\n",
    "display(avg_tcp_retran.sort_values(by=[\"avg_tcp(bytes)\"],ascending=False).tail(10))\n",
    "\n",
    "print(\"Bottom 10 RTT\")\n",
    "display(avg_rtt.sort_values(by=[\"avg_rtt(ms)\"],ascending=False).tail(10))\n",
    "\n",
    "print(\"Bottom 10 TP\")\n",
    "display(avg_tp.sort_values(by=[\"avg_tp(kbps)\"],ascending=False).tail(10))"
   ]
  },
  {
   "cell_type": "markdown",
   "metadata": {},
   "source": [
    "### Top 10 frequent TCP, RTT, TP values"
   ]
  },
  {
   "cell_type": "code",
   "execution_count": 20,
   "metadata": {},
   "outputs": [
    {
     "name": "stdout",
     "output_type": "stream",
     "text": [
      "10 top frequent TCP\n"
     ]
    },
    {
     "data": {
      "text/plain": [
       "avg_tcp(bytes)\n",
       "589679.50         55974\n",
       "570024.00           367\n",
       "570060.00           167\n",
       "22279.50            145\n",
       "579851.75            82\n",
       "570048.00            81\n",
       "21041.50             78\n",
       "23609.50             78\n",
       "20987.50             70\n",
       "571390.00            65\n",
       "dtype: int64"
      ]
     },
     "metadata": {},
     "output_type": "display_data"
    },
    {
     "name": "stdout",
     "output_type": "stream",
     "text": [
      "10 top frequent RTT\n"
     ]
    },
    {
     "data": {
      "text/plain": [
       "avg_rtt(ms)\n",
       "50.0           19546\n",
       "29.0            2950\n",
       "39.0            2409\n",
       "38.0            1657\n",
       "40.0            1642\n",
       "30.0            1577\n",
       "28.0            1457\n",
       "49.0            1391\n",
       "41.0            1260\n",
       "31.0            1190\n",
       "dtype: int64"
      ]
     },
     "metadata": {},
     "output_type": "display_data"
    },
    {
     "name": "stdout",
     "output_type": "stream",
     "text": [
      "10 top frequent TP\n"
     ]
    },
    {
     "data": {
      "text/plain": [
       "avg_tp(kbps)\n",
       "15.0            2872\n",
       "63.0            2138\n",
       "97.0            1094\n",
       "90.0            1062\n",
       "98.0            1025\n",
       "96.0             938\n",
       "99.0             918\n",
       "89.0             881\n",
       "91.0             864\n",
       "95.0             856\n",
       "dtype: int64"
      ]
     },
     "metadata": {},
     "output_type": "display_data"
    }
   ],
   "source": [
    "print(\"10 top frequent TCP\")\n",
    "display(avg_tcp_retran.value_counts().sort_values(ascending=False).head(10))\n",
    "\n",
    "print(\"10 top frequent RTT\")\n",
    "display(avg_rtt.value_counts().sort_values(ascending=False).head(10))\n",
    "\n",
    "print(\"10 top frequent TP\")\n",
    "display(avg_tp.value_counts().sort_values(ascending=False).head(10))"
   ]
  },
  {
   "cell_type": "markdown",
   "metadata": {},
   "source": [
    "### Distribution of the average throughput per handset type and provide interpretation\n",
    "### Distribution of the average tcp transmission view per handset type"
   ]
  },
  {
   "cell_type": "code",
   "execution_count": 21,
   "metadata": {},
   "outputs": [
    {
     "data": {
      "text/plain": [
       "Index(['msisdn', 'handset_type', 'total_rtt(ms)', 'total_tp(kbps)',\n",
       "       'total_tcp(bytes)'],\n",
       "      dtype='object')"
      ]
     },
     "execution_count": 21,
     "metadata": {},
     "output_type": "execute_result"
    }
   ],
   "source": [
    "user_experience_total.columns"
   ]
  },
  {
   "cell_type": "code",
   "execution_count": 22,
   "metadata": {},
   "outputs": [
    {
     "data": {
      "text/html": [
       "<div>\n",
       "<style scoped>\n",
       "    .dataframe tbody tr th:only-of-type {\n",
       "        vertical-align: middle;\n",
       "    }\n",
       "\n",
       "    .dataframe tbody tr th {\n",
       "        vertical-align: top;\n",
       "    }\n",
       "\n",
       "    .dataframe thead th {\n",
       "        text-align: right;\n",
       "    }\n",
       "</style>\n",
       "<table border=\"1\" class=\"dataframe\">\n",
       "  <thead>\n",
       "    <tr style=\"text-align: right;\">\n",
       "      <th></th>\n",
       "      <th>total_tp(kbps)</th>\n",
       "      <th>total_tcp(bytes)</th>\n",
       "    </tr>\n",
       "    <tr>\n",
       "      <th>handset_type</th>\n",
       "      <th></th>\n",
       "      <th></th>\n",
       "    </tr>\n",
       "  </thead>\n",
       "  <tbody>\n",
       "    <tr>\n",
       "      <th>A-Link Telecom I. Cubot A5</th>\n",
       "      <td>23510.0</td>\n",
       "      <td>589679.5</td>\n",
       "    </tr>\n",
       "    <tr>\n",
       "      <th>A-Link Telecom I. Cubot Note Plus</th>\n",
       "      <td>6699.0</td>\n",
       "      <td>616213.0</td>\n",
       "    </tr>\n",
       "    <tr>\n",
       "      <th>A-Link Telecom I. Cubot Note S</th>\n",
       "      <td>8937.0</td>\n",
       "      <td>41411731.0</td>\n",
       "    </tr>\n",
       "    <tr>\n",
       "      <th>A-Link Telecom I. Cubot Nova</th>\n",
       "      <td>56217.0</td>\n",
       "      <td>137170.0</td>\n",
       "    </tr>\n",
       "    <tr>\n",
       "      <th>A-Link Telecom I. Cubot Power</th>\n",
       "      <td>69468.0</td>\n",
       "      <td>8041.0</td>\n",
       "    </tr>\n",
       "  </tbody>\n",
       "</table>\n",
       "</div>"
      ],
      "text/plain": [
       "                                   total_tp(kbps)  total_tcp(bytes)\n",
       "handset_type                                                       \n",
       "A-Link Telecom I. Cubot A5                23510.0          589679.5\n",
       "A-Link Telecom I. Cubot Note Plus          6699.0          616213.0\n",
       "A-Link Telecom I. Cubot Note S             8937.0        41411731.0\n",
       "A-Link Telecom I. Cubot Nova              56217.0          137170.0\n",
       "A-Link Telecom I. Cubot Power             69468.0            8041.0"
      ]
     },
     "execution_count": 22,
     "metadata": {},
     "output_type": "execute_result"
    }
   ],
   "source": [
    "user_experience_total\n",
    "per_handset = user_experience_total.groupby('handset_type').agg({'total_tp(kbps)': 'sum', 'total_tcp(bytes)': 'sum'})\n",
    "per_handset.head()"
   ]
  },
  {
   "cell_type": "code",
   "execution_count": 23,
   "metadata": {},
   "outputs": [
    {
     "data": {
      "image/png": "[encoded data removed]",
      "text/plain": [
       "<Figure size 864x504 with 1 Axes>"
      ]
     },
     "metadata": {
      "needs_background": "light"
     },
     "output_type": "display_data"
    },
    {
     "data": {
      "image/png": "[encoded data removed]",
      "text/plain": [
       "<Figure size 864x504 with 1 Axes>"
      ]
     },
     "metadata": {
      "needs_background": "light"
     },
     "output_type": "display_data"
    }
   ],
   "source": [
    "\n",
    "utility.plot_box(per_handset, 'total_tp(kbps)', 'Outlier detectio for avg_bearer_tp_(kbps)')\n",
    "utility.plot_box(per_handset, 'total_tcp(bytes)', 'Outlier detection for tcp_retrans._vol_(bytes)')"
   ]
  },
  {
   "cell_type": "code",
   "execution_count": 24,
   "metadata": {},
   "outputs": [],
   "source": [
    "cleaned_per_handset = cleaner.handle_outliers(per_handset, 'total_tp(kbps)')\n",
    "cleaned_per_handset = cleaner.handle_outliers(cleaned_per_handset, 'total_tcp(bytes)')"
   ]
  },
  {
   "cell_type": "code",
   "execution_count": 25,
   "metadata": {},
   "outputs": [
    {
     "data": {
      "image/png": "[encoded data removed]",
      "text/plain": [
       "<Figure size 864x504 with 1 Axes>"
      ]
     },
     "metadata": {
      "needs_background": "light"
     },
     "output_type": "display_data"
    },
    {
     "data": {
      "image/png": "[encoded data removed]",
      "text/plain": [
       "<Figure size 864x504 with 1 Axes>"
      ]
     },
     "metadata": {
      "needs_background": "light"
     },
     "output_type": "display_data"
    }
   ],
   "source": [
    "utility.plot_box(cleaned_per_handset, 'total_tcp(bytes)', 'Outlier detection for tcp_retrans._vol_(bytes)')\n",
    "utility.plot_hist(cleaned_per_handset, 'total_tcp(bytes)', 'blue')\n"
   ]
  },
  {
   "cell_type": "code",
   "execution_count": 26,
   "metadata": {},
   "outputs": [
    {
     "data": {
      "image/png": "[encoded data removed]",
      "text/plain": [
       "<Figure size 864x504 with 1 Axes>"
      ]
     },
     "metadata": {
      "needs_background": "light"
     },
     "output_type": "display_data"
    },
    {
     "data": {
      "image/png": "[encoded data removed]",
      "text/plain": [
       "<Figure size 864x504 with 1 Axes>"
      ]
     },
     "metadata": {
      "needs_background": "light"
     },
     "output_type": "display_data"
    }
   ],
   "source": [
    "utility.plot_box(cleaned_per_handset, 'total_tp(kbps)', 'Outlier detectio for tp_(kbps)')\n",
    "utility.plot_hist(cleaned_per_handset, 'total_tp(kbps)','green')"
   ]
  }
 ],
 "metadata": {
  "kernelspec": {
   "display_name": "Python 3.10.5 64-bit",
   "language": "python",
   "name": "python3"
  },
  "language_info": {
   "codemirror_mode": {
    "name": "ipython",
    "version": 3
   },
   "file_extension": ".py",
   "mimetype": "text/x-python",
   "name": "python",
   "nbconvert_exporter": "python",
   "pygments_lexer": "ipython3",
   "version": "3.10.5"
  },
  "orig_nbformat": 4,
  "vscode": {
   "interpreter": {
    "hash": "b1991c03751bb1ed07063b349673f109e299af7bd2e157024b7d7177e34b5cc3"
   }
  }
 },
 "nbformat": 4,
 "nbformat_minor": 2
}
